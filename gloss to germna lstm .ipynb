{
  "nbformat": 4,
  "nbformat_minor": 0,
  "metadata": {
    "colab": {
      "name": "gloss to german.ipynb",
      "provenance": [],
      "collapsed_sections": []
    },
    "kernelspec": {
      "name": "python3",
      "display_name": "Python 3"
    },
    "language_info": {
      "name": "python"
    }
  },
  "cells": [
    {
      "cell_type": "code",
      "metadata": {
        "colab": {
          "base_uri": "https://localhost:8080/"
        },
        "id": "FFi6_pA4YCmR",
        "outputId": "fb7a3b15-9750-45a3-977e-0758eb43cf16"
      },
      "source": [
        "from google.colab import drive\n",
        "drive.mount('/content/drive')"
      ],
      "execution_count": null,
      "outputs": [
        {
          "output_type": "stream",
          "text": [
            "Mounted at /content/drive\n"
          ],
          "name": "stdout"
        }
      ]
    },
    {
      "cell_type": "code",
      "metadata": {
        "id": "FRfONglOYRJE"
      },
      "source": [
        "import numpy as np\n",
        "import pandas as pd\n",
        "import tensorflow as tf\n",
        "from tensorflow import keras\n",
        "import matplotlib.pyplot as plt\n",
        "from tensorflow.keras.models import Model, Sequential\n",
        "from tensorflow.keras.layers import Dense, Activation, Dropout, Flatten, TimeDistributed, LSTM, Input, BatchNormalization, Conv2D, MaxPooling2D, Reshape, Conv1D, GlobalAveragePooling1D, MaxPooling1D, Lambda\n",
        "from tensorflow.keras.utils import to_categorical\n",
        "from tensorflow.keras.callbacks import ModelCheckpoint, ReduceLROnPlateau, EarlyStopping\n",
        "from tensorflow.keras.preprocessing.image import ImageDataGenerator\n",
        "from keras.optimizers import Adam\n",
        "from keras.losses import sparse_categorical_crossentropy\n",
        "from keras.losses import categorical_crossentropy\n",
        "import tensorflow_hub as hub\n",
        "from PIL import Image\n",
        "import gzip\n",
        "from keras.preprocessing.sequence import pad_sequences\n",
        "import spacy\n",
        "import h5py\n",
        "import os\n",
        "import cv2\n",
        "import pickle\n",
        "import re\n",
        "import shutil\n",
        "import glob\n",
        "import gzip\n",
        "%matplotlib inline"
      ],
      "execution_count": null,
      "outputs": []
    },
    {
      "cell_type": "code",
      "metadata": {
        "id": "n1uyCFfXYacr"
      },
      "source": [
        "import gzip"
      ],
      "execution_count": null,
      "outputs": []
    },
    {
      "cell_type": "code",
      "metadata": {
        "id": "QVnAhB-vYeET"
      },
      "source": [
        "path_gloss_files = '/content/drive/MyDrive/Colab Notebooks/phoenix14t.pami0.train.annotations_only.gzip'\n",
        "path_dev_gloss = '/content/drive/MyDrive/Colab Notebooks/phoenix14t.pami0.dev.annotations_only.gzip'\n",
        "path_test_gloss = '/content/drive/MyDrive/Colab Notebooks/phoenix14t.pami0.test.annotations_only.gzip'"
      ],
      "execution_count": null,
      "outputs": []
    },
    {
      "cell_type": "markdown",
      "metadata": {
        "id": "6xBbnUroYyYY"
      },
      "source": [
        "# reading gloss files"
      ]
    },
    {
      "cell_type": "code",
      "metadata": {
        "id": "w9giIG5OYoYT"
      },
      "source": [
        "with gzip.open(path_gloss_files,'rb') as f:\n",
        "  annotation_gloss = pickle.load(f)"
      ],
      "execution_count": null,
      "outputs": []
    },
    {
      "cell_type": "code",
      "metadata": {
        "id": "B6qVsd9pY2NT"
      },
      "source": [
        "with gzip.open(path_dev_gloss,'rb') as f:\n",
        "  annotation_dev = pickle.load(f)"
      ],
      "execution_count": null,
      "outputs": []
    },
    {
      "cell_type": "code",
      "metadata": {
        "id": "zIUbgY4rY-MD"
      },
      "source": [
        "with gzip.open(path_test_gloss,'rb')as f :\n",
        "  annotation_test = pickle.load(f)"
      ],
      "execution_count": null,
      "outputs": []
    },
    {
      "cell_type": "code",
      "metadata": {
        "id": "MLjmjK1yZGcb"
      },
      "source": [
        ""
      ],
      "execution_count": null,
      "outputs": []
    },
    {
      "cell_type": "code",
      "metadata": {
        "id": "nORwOxfmZIbm"
      },
      "source": [
        "annotation_gloss = pd.DataFrame(annotation_gloss)"
      ],
      "execution_count": null,
      "outputs": []
    },
    {
      "cell_type": "code",
      "metadata": {
        "id": "9PkuAv9gZIXh"
      },
      "source": [
        "annotation_gloss_dev = pd.DataFrame(annotation_dev)"
      ],
      "execution_count": null,
      "outputs": []
    },
    {
      "cell_type": "code",
      "metadata": {
        "id": "rvLK8pcvZITu"
      },
      "source": [
        "annotation_gloss_test = pd.DataFrame(annotation_test)"
      ],
      "execution_count": null,
      "outputs": []
    },
    {
      "cell_type": "markdown",
      "metadata": {
        "id": "JiUUAzpTZvml"
      },
      "source": [
        "# preprocessing glosses and texts"
      ]
    },
    {
      "cell_type": "code",
      "metadata": {
        "id": "9o74dpY1Zvju"
      },
      "source": [
        "for i in range(len(annotation_gloss)):\n",
        "  annotation_gloss.iloc[i,2] = 'startseq '+annotation_gloss.iloc[i,2].lower() + ' endseq'\n",
        "  annotation_gloss.iloc[i,3] = 'startseq '+annotation_gloss.iloc[i,3].lower() + ' endseq'\n",
        "  annotation_gloss.iloc[i,3] = annotation_gloss.iloc[i,3].replace(' .','')\n",
        "  #annotation_gloss.iloc[i,3] =annotation_gloss.iloc[i,3][-2].replace(' ','')\n",
        " "
      ],
      "execution_count": null,
      "outputs": []
    },
    {
      "cell_type": "code",
      "metadata": {
        "id": "Iu7SysFuZvhG"
      },
      "source": [
        "for i in range(len(annotation_gloss_dev)):\n",
        "  annotation_gloss_dev.iloc[i,2] = 'startseq '+annotation_gloss_dev.iloc[i,2].lower() + ' endseq'\n",
        "  annotation_gloss_dev.iloc[i,3] = 'startseq '+annotation_gloss_dev.iloc[i,3].lower() + ' endseq'\n",
        "  annotation_gloss_dev.iloc[i,3] = annotation_gloss_dev.iloc[i,3].replace(' .','')"
      ],
      "execution_count": null,
      "outputs": []
    },
    {
      "cell_type": "code",
      "metadata": {
        "id": "MUbU5bsEZveD"
      },
      "source": [
        "for i in range(len(annotation_gloss_test)):\n",
        "  annotation_gloss_test.iloc[i,2] = 'startseq '+annotation_gloss_test.iloc[i,2].lower() + ' endseq'\n",
        "  annotation_gloss_test.iloc[i,3] = 'startseq '+annotation_gloss_test.iloc[i,3].lower() + ' endseq'\n",
        "  annotation_gloss_test.iloc[i,3] = annotation_gloss_test.iloc[i,3].replace(' .','')"
      ],
      "execution_count": null,
      "outputs": []
    },
    {
      "cell_type": "code",
      "metadata": {
        "colab": {
          "base_uri": "https://localhost:8080/",
          "height": 203
        },
        "id": "Ueseg8mMZ8yi",
        "outputId": "b49ca56a-4bb5-4b38-f88f-95e109a50138"
      },
      "source": [
        "annotation_gloss.head()"
      ],
      "execution_count": null,
      "outputs": [
        {
          "output_type": "execute_result",
          "data": {
            "text/html": [
              "<div>\n",
              "<style scoped>\n",
              "    .dataframe tbody tr th:only-of-type {\n",
              "        vertical-align: middle;\n",
              "    }\n",
              "\n",
              "    .dataframe tbody tr th {\n",
              "        vertical-align: top;\n",
              "    }\n",
              "\n",
              "    .dataframe thead th {\n",
              "        text-align: right;\n",
              "    }\n",
              "</style>\n",
              "<table border=\"1\" class=\"dataframe\">\n",
              "  <thead>\n",
              "    <tr style=\"text-align: right;\">\n",
              "      <th></th>\n",
              "      <th>name</th>\n",
              "      <th>signer</th>\n",
              "      <th>gloss</th>\n",
              "      <th>text</th>\n",
              "    </tr>\n",
              "  </thead>\n",
              "  <tbody>\n",
              "    <tr>\n",
              "      <th>0</th>\n",
              "      <td>train/11August_2010_Wednesday_tagesschau-1</td>\n",
              "      <td>Signer08</td>\n",
              "      <td>startseq jetzt wetter morgen donnerstag zwoelf...</td>\n",
              "      <td>startseq und nun die wettervorhersage für morg...</td>\n",
              "    </tr>\n",
              "    <tr>\n",
              "      <th>1</th>\n",
              "      <td>train/11August_2010_Wednesday_tagesschau-4</td>\n",
              "      <td>Signer08</td>\n",
              "      <td>startseq ort regen durch regen koennen uebersc...</td>\n",
              "      <td>startseq mancherorts regnet es auch länger und...</td>\n",
              "    </tr>\n",
              "    <tr>\n",
              "      <th>2</th>\n",
              "      <td>train/11August_2010_Wednesday_tagesschau-5</td>\n",
              "      <td>Signer08</td>\n",
              "      <td>startseq nordwest heute nacht trocken bleiben ...</td>\n",
              "      <td>startseq im nordwesten bleibt es heute nacht m...</td>\n",
              "    </tr>\n",
              "    <tr>\n",
              "      <th>3</th>\n",
              "      <td>train/11August_2010_Wednesday_tagesschau-6</td>\n",
              "      <td>Signer08</td>\n",
              "      <td>startseq tagsueber oft regen gewitter koennen ...</td>\n",
              "      <td>startseq auch am tag gibt es verbreitet zum te...</td>\n",
              "    </tr>\n",
              "    <tr>\n",
              "      <th>4</th>\n",
              "      <td>train/11August_2010_Wednesday_tagesschau-7</td>\n",
              "      <td>Signer08</td>\n",
              "      <td>startseq wolke loch speziell nordwest endseq</td>\n",
              "      <td>startseq größere wolkenlücken finden sich vor ...</td>\n",
              "    </tr>\n",
              "  </tbody>\n",
              "</table>\n",
              "</div>"
            ],
            "text/plain": [
              "                                         name  ...                                               text\n",
              "0  train/11August_2010_Wednesday_tagesschau-1  ...  startseq und nun die wettervorhersage für morg...\n",
              "1  train/11August_2010_Wednesday_tagesschau-4  ...  startseq mancherorts regnet es auch länger und...\n",
              "2  train/11August_2010_Wednesday_tagesschau-5  ...  startseq im nordwesten bleibt es heute nacht m...\n",
              "3  train/11August_2010_Wednesday_tagesschau-6  ...  startseq auch am tag gibt es verbreitet zum te...\n",
              "4  train/11August_2010_Wednesday_tagesschau-7  ...  startseq größere wolkenlücken finden sich vor ...\n",
              "\n",
              "[5 rows x 4 columns]"
            ]
          },
          "metadata": {
            "tags": []
          },
          "execution_count": 14
        }
      ]
    },
    {
      "cell_type": "code",
      "metadata": {
        "colab": {
          "base_uri": "https://localhost:8080/",
          "height": 203
        },
        "id": "C2R7WbQgaSqS",
        "outputId": "5a436515-e55c-4679-ee5b-8dbb8480074a"
      },
      "source": [
        "annotation_gloss_dev.head()"
      ],
      "execution_count": null,
      "outputs": [
        {
          "output_type": "execute_result",
          "data": {
            "text/html": [
              "<div>\n",
              "<style scoped>\n",
              "    .dataframe tbody tr th:only-of-type {\n",
              "        vertical-align: middle;\n",
              "    }\n",
              "\n",
              "    .dataframe tbody tr th {\n",
              "        vertical-align: top;\n",
              "    }\n",
              "\n",
              "    .dataframe thead th {\n",
              "        text-align: right;\n",
              "    }\n",
              "</style>\n",
              "<table border=\"1\" class=\"dataframe\">\n",
              "  <thead>\n",
              "    <tr style=\"text-align: right;\">\n",
              "      <th></th>\n",
              "      <th>name</th>\n",
              "      <th>signer</th>\n",
              "      <th>gloss</th>\n",
              "      <th>text</th>\n",
              "    </tr>\n",
              "  </thead>\n",
              "  <tbody>\n",
              "    <tr>\n",
              "      <th>0</th>\n",
              "      <td>dev/11August_2010_Wednesday_tagesschau-2</td>\n",
              "      <td>Signer08</td>\n",
              "      <td>startseq druck tief kommen endseq</td>\n",
              "      <td>startseq tiefer luftdruck bestimmt in den näch...</td>\n",
              "    </tr>\n",
              "    <tr>\n",
              "      <th>1</th>\n",
              "      <td>dev/11August_2010_Wednesday_tagesschau-3</td>\n",
              "      <td>Signer08</td>\n",
              "      <td>startseq es-bedeutet viel wolke und koennen re...</td>\n",
              "      <td>startseq das bedeutet viele wolken und immer w...</td>\n",
              "    </tr>\n",
              "    <tr>\n",
              "      <th>2</th>\n",
              "      <td>dev/11August_2010_Wednesday_tagesschau-8</td>\n",
              "      <td>Signer08</td>\n",
              "      <td>startseq wind maessig schwach region wenn gewi...</td>\n",
              "      <td>startseq meist weht nur ein schwacher wind aus...</td>\n",
              "    </tr>\n",
              "    <tr>\n",
              "      <th>3</th>\n",
              "      <td>dev/25October_2010_Monday_tagesschau-22</td>\n",
              "      <td>Signer01</td>\n",
              "      <td>startseq mittwoch regen koennen nordwest wahrs...</td>\n",
              "      <td>startseq am mittwoch hier und da nieselregen i...</td>\n",
              "    </tr>\n",
              "    <tr>\n",
              "      <th>4</th>\n",
              "      <td>dev/05May_2011_Thursday_tagesschau-25</td>\n",
              "      <td>Signer08</td>\n",
              "      <td>startseq jetzt wetter wie-aussehen morgen frei...</td>\n",
              "      <td>startseq und nun die wettervorhersage für morg...</td>\n",
              "    </tr>\n",
              "  </tbody>\n",
              "</table>\n",
              "</div>"
            ],
            "text/plain": [
              "                                       name  ...                                               text\n",
              "0  dev/11August_2010_Wednesday_tagesschau-2  ...  startseq tiefer luftdruck bestimmt in den näch...\n",
              "1  dev/11August_2010_Wednesday_tagesschau-3  ...  startseq das bedeutet viele wolken und immer w...\n",
              "2  dev/11August_2010_Wednesday_tagesschau-8  ...  startseq meist weht nur ein schwacher wind aus...\n",
              "3   dev/25October_2010_Monday_tagesschau-22  ...  startseq am mittwoch hier und da nieselregen i...\n",
              "4     dev/05May_2011_Thursday_tagesschau-25  ...  startseq und nun die wettervorhersage für morg...\n",
              "\n",
              "[5 rows x 4 columns]"
            ]
          },
          "metadata": {
            "tags": []
          },
          "execution_count": 15
        }
      ]
    },
    {
      "cell_type": "code",
      "metadata": {
        "colab": {
          "base_uri": "https://localhost:8080/",
          "height": 203
        },
        "id": "oPfdW8-2aVei",
        "outputId": "392eb5a9-6122-4c04-89c5-d6ff75f63ca2"
      },
      "source": [
        "annotation_gloss_test.head()"
      ],
      "execution_count": null,
      "outputs": [
        {
          "output_type": "execute_result",
          "data": {
            "text/html": [
              "<div>\n",
              "<style scoped>\n",
              "    .dataframe tbody tr th:only-of-type {\n",
              "        vertical-align: middle;\n",
              "    }\n",
              "\n",
              "    .dataframe tbody tr th {\n",
              "        vertical-align: top;\n",
              "    }\n",
              "\n",
              "    .dataframe thead th {\n",
              "        text-align: right;\n",
              "    }\n",
              "</style>\n",
              "<table border=\"1\" class=\"dataframe\">\n",
              "  <thead>\n",
              "    <tr style=\"text-align: right;\">\n",
              "      <th></th>\n",
              "      <th>name</th>\n",
              "      <th>signer</th>\n",
              "      <th>gloss</th>\n",
              "      <th>text</th>\n",
              "    </tr>\n",
              "  </thead>\n",
              "  <tbody>\n",
              "    <tr>\n",
              "      <th>0</th>\n",
              "      <td>test/25October_2010_Monday_tagesschau-17</td>\n",
              "      <td>Signer01</td>\n",
              "      <td>startseq regen schnee region verschwinden nord...</td>\n",
              "      <td>startseq regen und schnee lassen an den alpen ...</td>\n",
              "    </tr>\n",
              "    <tr>\n",
              "      <th>1</th>\n",
              "      <td>test/25October_2010_Monday_tagesschau-24</td>\n",
              "      <td>Signer01</td>\n",
              "      <td>startseq donnerstag nordwest regen region sonn...</td>\n",
              "      <td>startseq am donnerstag regen in der nordhälfte...</td>\n",
              "    </tr>\n",
              "    <tr>\n",
              "      <th>2</th>\n",
              "      <td>test/15December_2010_Wednesday_tagesschau-37</td>\n",
              "      <td>Signer05</td>\n",
              "      <td>startseq kraeftig ab morgen frueh meistens sch...</td>\n",
              "      <td>startseq vom nordmeer zieht ein kräftiges tief...</td>\n",
              "    </tr>\n",
              "    <tr>\n",
              "      <th>3</th>\n",
              "      <td>test/10March_2011_Thursday_heute-58</td>\n",
              "      <td>Signer01</td>\n",
              "      <td>startseq wochenende sonne samstag schoen tempe...</td>\n",
              "      <td>startseq sonnig geht es auch ins wochenende sa...</td>\n",
              "    </tr>\n",
              "    <tr>\n",
              "      <th>4</th>\n",
              "      <td>test/14August_2009_Friday_tagesschau-62</td>\n",
              "      <td>Signer05</td>\n",
              "      <td>startseq deutsch land morgen hoch druck kommen...</td>\n",
              "      <td>startseq deutschland liegt morgen unter hochdr...</td>\n",
              "    </tr>\n",
              "  </tbody>\n",
              "</table>\n",
              "</div>"
            ],
            "text/plain": [
              "                                           name  ...                                               text\n",
              "0      test/25October_2010_Monday_tagesschau-17  ...  startseq regen und schnee lassen an den alpen ...\n",
              "1      test/25October_2010_Monday_tagesschau-24  ...  startseq am donnerstag regen in der nordhälfte...\n",
              "2  test/15December_2010_Wednesday_tagesschau-37  ...  startseq vom nordmeer zieht ein kräftiges tief...\n",
              "3           test/10March_2011_Thursday_heute-58  ...  startseq sonnig geht es auch ins wochenende sa...\n",
              "4       test/14August_2009_Friday_tagesschau-62  ...  startseq deutschland liegt morgen unter hochdr...\n",
              "\n",
              "[5 rows x 4 columns]"
            ]
          },
          "metadata": {
            "tags": []
          },
          "execution_count": 16
        }
      ]
    },
    {
      "cell_type": "code",
      "metadata": {
        "id": "3m5qNemkaWy6"
      },
      "source": [
        ""
      ],
      "execution_count": null,
      "outputs": []
    },
    {
      "cell_type": "markdown",
      "metadata": {
        "id": "abIlktpwaZGR"
      },
      "source": [
        "# calculation max length in texts"
      ]
    },
    {
      "cell_type": "code",
      "metadata": {
        "id": "IvXFbYaibGAq"
      },
      "source": [
        "gloss_gloss = []\n",
        "for i in range(7096):\n",
        "  gloss_gloss.append(annotation_gloss.iloc[i,3])\n",
        "for i in range(len(annotation_gloss_dev)):\n",
        "  gloss_gloss.append(annotation_gloss_dev.iloc[i,3])\n",
        "for i in range(len(annotation_gloss_test)):\n",
        "  gloss_gloss.append(annotation_gloss_test.iloc[i,3])"
      ],
      "execution_count": null,
      "outputs": []
    },
    {
      "cell_type": "code",
      "metadata": {
        "colab": {
          "base_uri": "https://localhost:8080/"
        },
        "id": "Ee7Qvu7pcciV",
        "outputId": "39ad3c9c-263b-4755-8867-f231ef5bbaf9"
      },
      "source": [
        "len(gloss_gloss)"
      ],
      "execution_count": null,
      "outputs": [
        {
          "output_type": "execute_result",
          "data": {
            "text/plain": [
              "8257"
            ]
          },
          "metadata": {
            "tags": []
          },
          "execution_count": 18
        }
      ]
    },
    {
      "cell_type": "code",
      "metadata": {
        "colab": {
          "base_uri": "https://localhost:8080/",
          "height": 35
        },
        "id": "nJ5qPEg3cjA7",
        "outputId": "8b1d0ce0-5bb5-453a-acf4-7c59dad371af"
      },
      "source": [
        "gloss_gloss[0]"
      ],
      "execution_count": null,
      "outputs": [
        {
          "output_type": "execute_result",
          "data": {
            "application/vnd.google.colaboratory.intrinsic+json": {
              "type": "string"
            },
            "text/plain": [
              "'startseq und nun die wettervorhersage für morgen donnerstag den zwölften august endseq'"
            ]
          },
          "metadata": {
            "tags": []
          },
          "execution_count": 19
        }
      ]
    },
    {
      "cell_type": "code",
      "metadata": {
        "id": "3_8wg5yiclLr"
      },
      "source": [
        "length_check = []\n",
        "for i in range (len(gloss_gloss)):\n",
        "  length_check.append(gloss_gloss[i].split(' '))\n",
        "  \n"
      ],
      "execution_count": null,
      "outputs": []
    },
    {
      "cell_type": "code",
      "metadata": {
        "colab": {
          "base_uri": "https://localhost:8080/"
        },
        "id": "ax2rHDl_csVr",
        "outputId": "b9d2677e-225d-4527-8708-c223d4785a5a"
      },
      "source": [
        "len(length_check)"
      ],
      "execution_count": null,
      "outputs": [
        {
          "output_type": "execute_result",
          "data": {
            "text/plain": [
              "8257"
            ]
          },
          "metadata": {
            "tags": []
          },
          "execution_count": 21
        }
      ]
    },
    {
      "cell_type": "code",
      "metadata": {
        "id": "tt7uIwJjfN0D"
      },
      "source": [
        "# removeing all  single length characters\n",
        "for i in range(len(length_check)):\n",
        "  for j in length_check[i]:\n",
        "    if(len(j)<=1):\n",
        "      length_check[i].remove(j)"
      ],
      "execution_count": null,
      "outputs": []
    },
    {
      "cell_type": "code",
      "metadata": {
        "id": "jwe77EK1fu8K"
      },
      "source": [
        "count=0\n",
        "for i in range(len(length_check)):\n",
        "  if(len(length_check[i])>count):\n",
        "    count = len(length_check[i])"
      ],
      "execution_count": null,
      "outputs": []
    },
    {
      "cell_type": "code",
      "metadata": {
        "colab": {
          "base_uri": "https://localhost:8080/"
        },
        "id": "GUo59Mx8gB8S",
        "outputId": "82aa3234-a737-4cd8-e368-0316ab568636"
      },
      "source": [
        "count"
      ],
      "execution_count": null,
      "outputs": [
        {
          "output_type": "execute_result",
          "data": {
            "text/plain": [
              "54"
            ]
          },
          "metadata": {
            "tags": []
          },
          "execution_count": 24
        }
      ]
    },
    {
      "cell_type": "code",
      "metadata": {
        "colab": {
          "base_uri": "https://localhost:8080/"
        },
        "id": "HVUWxwnahixy",
        "outputId": "524da5b0-7561-49d8-9f90-4f9f18aa12f4"
      },
      "source": [
        "length_check[0]"
      ],
      "execution_count": null,
      "outputs": [
        {
          "output_type": "execute_result",
          "data": {
            "text/plain": [
              "['startseq',\n",
              " 'und',\n",
              " 'nun',\n",
              " 'die',\n",
              " 'wettervorhersage',\n",
              " 'für',\n",
              " 'morgen',\n",
              " 'donnerstag',\n",
              " 'den',\n",
              " 'zwölften',\n",
              " 'august',\n",
              " 'endseq']"
            ]
          },
          "metadata": {
            "tags": []
          },
          "execution_count": 25
        }
      ]
    },
    {
      "cell_type": "markdown",
      "metadata": {
        "id": "cWgipbxFgC5i"
      },
      "source": [
        "# max length is 54"
      ]
    },
    {
      "cell_type": "markdown",
      "metadata": {
        "id": "_EBitJjcgVeL"
      },
      "source": [
        "# creating a tokenizer"
      ]
    },
    {
      "cell_type": "code",
      "metadata": {
        "id": "qb0M6Y8NhdXc"
      },
      "source": [
        "#creating a list of all unique words"
      ],
      "execution_count": null,
      "outputs": []
    },
    {
      "cell_type": "code",
      "metadata": {
        "id": "GFrcAksZlOlU"
      },
      "source": [
        "unique_list_text = []\n",
        "for i in range(len(length_check)):\n",
        "  for j in length_check[i]:\n",
        "    if (j not in unique_list_text):\n",
        "      unique_list_text.append(j)"
      ],
      "execution_count": null,
      "outputs": []
    },
    {
      "cell_type": "code",
      "metadata": {
        "colab": {
          "base_uri": "https://localhost:8080/"
        },
        "id": "PABaPV1GldvL",
        "outputId": "647baae0-568b-4b5c-9346-623dc0d13387"
      },
      "source": [
        "len(unique_list_text)"
      ],
      "execution_count": null,
      "outputs": [
        {
          "output_type": "execute_result",
          "data": {
            "text/plain": [
              "3001"
            ]
          },
          "metadata": {
            "tags": []
          },
          "execution_count": 28
        }
      ]
    },
    {
      "cell_type": "markdown",
      "metadata": {
        "id": "7iwamhZ52vVn"
      },
      "source": [
        "# removing words with frequency less than 10 times"
      ]
    },
    {
      "cell_type": "code",
      "metadata": {
        "id": "bDgUHxIx2ulF"
      },
      "source": [
        "dictionary_unq = {}"
      ],
      "execution_count": null,
      "outputs": []
    },
    {
      "cell_type": "code",
      "metadata": {
        "id": "uT-0yi5B2vcS"
      },
      "source": [
        "for i in range(len(unique_list_text)):\n",
        "  count= 0\n",
        "  for j in length_check:\n",
        "    for k in j:\n",
        "      if(unique_list_text[i] == k):\n",
        "        count+=1\n",
        "  dictionary_unq[unique_list_text[i]] = count\n"
      ],
      "execution_count": null,
      "outputs": []
    },
    {
      "cell_type": "code",
      "metadata": {
        "id": "mxZscU9l5d8K"
      },
      "source": [
        "for keys in dictionary_unq.keys():\n",
        "  if dictionary_unq[keys]<5:\n",
        "    unique_list_text.remove(keys)"
      ],
      "execution_count": null,
      "outputs": []
    },
    {
      "cell_type": "code",
      "metadata": {
        "id": "3bLnVnEH6B86"
      },
      "source": [
        "unique_list_text.append('<UNK>')"
      ],
      "execution_count": null,
      "outputs": []
    },
    {
      "cell_type": "markdown",
      "metadata": {
        "id": "eCjrpyup6sBl"
      },
      "source": [
        "# creating a tokenizer"
      ]
    },
    {
      "cell_type": "code",
      "metadata": {
        "id": "HYnjbkORlfHz"
      },
      "source": [
        "def create_tokenizer(unique_list_text):\n",
        "  tokenizer = tf.keras.preprocessing.text.Tokenizer()\n",
        "  tokenizer.fit_on_texts(unique_list_text)\n",
        "  return tokenizer\n"
      ],
      "execution_count": null,
      "outputs": []
    },
    {
      "cell_type": "code",
      "metadata": {
        "id": "X5zVFz0amKht"
      },
      "source": [
        "tokenizer = create_tokenizer(unique_list_text)"
      ],
      "execution_count": null,
      "outputs": []
    },
    {
      "cell_type": "code",
      "metadata": {
        "id": "tpmmPHSemMKT"
      },
      "source": [
        "vocab_size_text = len(tokenizer.word_index)+1"
      ],
      "execution_count": null,
      "outputs": []
    },
    {
      "cell_type": "code",
      "metadata": {
        "colab": {
          "base_uri": "https://localhost:8080/"
        },
        "id": "spCLJk49mOi6",
        "outputId": "377362a4-bf14-491f-b899-46d03b9a23a2"
      },
      "source": [
        "print(\"vocalb size\",vocab_size_text)"
      ],
      "execution_count": null,
      "outputs": [
        {
          "output_type": "stream",
          "text": [
            "vocalb size 1202\n"
          ],
          "name": "stdout"
        }
      ]
    },
    {
      "cell_type": "code",
      "metadata": {
        "colab": {
          "base_uri": "https://localhost:8080/"
        },
        "id": "d9PblO3B8Ned",
        "outputId": "afbce490-066b-4440-c073-c876b35578d4"
      },
      "source": [
        ""
      ],
      "execution_count": null,
      "outputs": [
        {
          "output_type": "execute_result",
          "data": {
            "text/plain": [
              "<keras_preprocessing.text.Tokenizer at 0x7f0c64173b90>"
            ]
          },
          "metadata": {
            "tags": []
          },
          "execution_count": 72
        }
      ]
    },
    {
      "cell_type": "markdown",
      "metadata": {
        "id": "l42qYQwqmhGH"
      },
      "source": [
        "# creating dataset for tokenizer"
      ]
    },
    {
      "cell_type": "code",
      "metadata": {
        "id": "uXKKCakWmhDW"
      },
      "source": [
        "gloss_token = []\n",
        "text_token = []\n",
        "for i in range(len(annotation_gloss)):\n",
        "  gloss_token.append(annotation_gloss.iloc[i,2])\n",
        "  text_token.append(annotation_gloss.iloc[i,3])"
      ],
      "execution_count": null,
      "outputs": []
    },
    {
      "cell_type": "code",
      "metadata": {
        "colab": {
          "base_uri": "https://localhost:8080/",
          "height": 35
        },
        "id": "Ef4JkxJI6VPK",
        "outputId": "5f62d73b-91af-47a5-f318-e8bcfeab74c6"
      },
      "source": [
        "text_token[0]"
      ],
      "execution_count": null,
      "outputs": [
        {
          "output_type": "execute_result",
          "data": {
            "application/vnd.google.colaboratory.intrinsic+json": {
              "type": "string"
            },
            "text/plain": [
              "'startseq und nun die wettervorhersage für morgen donnerstag den zwölften august endseq'"
            ]
          },
          "metadata": {
            "tags": []
          },
          "execution_count": 38
        }
      ]
    },
    {
      "cell_type": "code",
      "metadata": {
        "id": "38C0Lx97mhAq"
      },
      "source": [
        "gloss_token_dev = []\n",
        "text_token_dev = []\n",
        "for i in range(len(annotation_gloss_dev)):\n",
        "  gloss_token_dev.append(annotation_gloss_dev.iloc[i,2])\n",
        "  text_token_dev.append(annotation_gloss_dev.iloc[i,3])"
      ],
      "execution_count": null,
      "outputs": []
    },
    {
      "cell_type": "code",
      "metadata": {
        "id": "4fY5XR3tmg9n"
      },
      "source": [
        "gloss_token_test = []\n",
        "text_token_test = []\n",
        "for i in range(len(annotation_gloss_test)):\n",
        "  gloss_token_test.append(annotation_gloss_test.iloc[i,2])\n",
        "  text_token_test.append(annotation_gloss_test.iloc[i,3])"
      ],
      "execution_count": null,
      "outputs": []
    },
    {
      "cell_type": "code",
      "metadata": {
        "colab": {
          "base_uri": "https://localhost:8080/"
        },
        "id": "Lhixtwvymg6P",
        "outputId": "6868f58e-3d69-4aa6-8727-5584ac9f17a1"
      },
      "source": [
        "len(gloss_token)"
      ],
      "execution_count": null,
      "outputs": [
        {
          "output_type": "execute_result",
          "data": {
            "text/plain": [
              "7096"
            ]
          },
          "metadata": {
            "tags": []
          },
          "execution_count": 41
        }
      ]
    },
    {
      "cell_type": "code",
      "metadata": {
        "colab": {
          "base_uri": "https://localhost:8080/"
        },
        "id": "meiEcN1Mmg0P",
        "outputId": "505da43e-7c7d-4081-8579-4780e2b9845c"
      },
      "source": [
        "len(gloss_token_dev)"
      ],
      "execution_count": null,
      "outputs": [
        {
          "output_type": "execute_result",
          "data": {
            "text/plain": [
              "519"
            ]
          },
          "metadata": {
            "tags": []
          },
          "execution_count": 42
        }
      ]
    },
    {
      "cell_type": "code",
      "metadata": {
        "colab": {
          "base_uri": "https://localhost:8080/"
        },
        "id": "70urDJ6-nTv7",
        "outputId": "0902a914-61f3-41db-e852-67d70322e87f"
      },
      "source": [
        "len(gloss_token_test)"
      ],
      "execution_count": null,
      "outputs": [
        {
          "output_type": "execute_result",
          "data": {
            "text/plain": [
              "642"
            ]
          },
          "metadata": {
            "tags": []
          },
          "execution_count": 43
        }
      ]
    },
    {
      "cell_type": "markdown",
      "metadata": {
        "id": "RkJw4LOonVEL"
      },
      "source": [
        "# tokenizing whole glosses"
      ]
    },
    {
      "cell_type": "code",
      "metadata": {
        "colab": {
          "base_uri": "https://localhost:8080/",
          "height": 35
        },
        "id": "rRkQWvMX6Jlj",
        "outputId": "04e990db-a91c-4210-f3b9-a0acae48d5cd"
      },
      "source": [
        "gloss_token[0]"
      ],
      "execution_count": null,
      "outputs": [
        {
          "output_type": "execute_result",
          "data": {
            "application/vnd.google.colaboratory.intrinsic+json": {
              "type": "string"
            },
            "text/plain": [
              "'startseq jetzt wetter morgen donnerstag zwoelf februar endseq'"
            ]
          },
          "metadata": {
            "tags": []
          },
          "execution_count": 44
        }
      ]
    },
    {
      "cell_type": "code",
      "metadata": {
        "id": "hIDShPl6pYe3"
      },
      "source": [
        "\n",
        "def encode_sequences(tokenizer, length, lines):\n",
        "\t# integer encode sequences\n",
        "\tX = tokenizer.texts_to_sequences(lines)\n",
        "\t# pad sequences with 0 values\n",
        "\tX = pad_sequences(X, maxlen=length, padding='post')\n",
        "\treturn X"
      ],
      "execution_count": null,
      "outputs": []
    },
    {
      "cell_type": "code",
      "metadata": {
        "id": "hq0Ys3sipbCV"
      },
      "source": [
        "X_train = encode_sequences(tokenizer,35,gloss_token)"
      ],
      "execution_count": null,
      "outputs": []
    },
    {
      "cell_type": "code",
      "metadata": {
        "colab": {
          "base_uri": "https://localhost:8080/"
        },
        "id": "fzhlbv9T8ELf",
        "outputId": "b411b1b7-08eb-46de-b22b-89a33f962fef"
      },
      "source": [
        "X_train[0]"
      ],
      "execution_count": null,
      "outputs": [
        {
          "output_type": "execute_result",
          "data": {
            "text/plain": [
              "array([  1, 552, 118,   7,   8, 380,  12,   0,   0,   0,   0,   0,   0,\n",
              "         0,   0,   0,   0,   0,   0,   0,   0,   0,   0,   0,   0,   0,\n",
              "         0,   0,   0,   0,   0,   0,   0,   0,   0], dtype=int32)"
            ]
          },
          "metadata": {
            "tags": []
          },
          "execution_count": 71
        }
      ]
    },
    {
      "cell_type": "code",
      "metadata": {
        "colab": {
          "base_uri": "https://localhost:8080/"
        },
        "id": "ExlBkcnHpiYD",
        "outputId": "e6a920d6-f129-4a6c-be58-52454853edcc"
      },
      "source": [
        "np.shape(X_train)\n"
      ],
      "execution_count": null,
      "outputs": [
        {
          "output_type": "execute_result",
          "data": {
            "text/plain": [
              "(7096, 35)"
            ]
          },
          "metadata": {
            "tags": []
          },
          "execution_count": 47
        }
      ]
    },
    {
      "cell_type": "code",
      "metadata": {
        "id": "13lcEfTApkUL"
      },
      "source": [
        "X_dev = encode_sequences(tokenizer,35,gloss_token_dev)"
      ],
      "execution_count": null,
      "outputs": []
    },
    {
      "cell_type": "code",
      "metadata": {
        "id": "VYbLIsZew8j4"
      },
      "source": [
        "X_test = encode_sequences(tokenizer,35,gloss_token_test)"
      ],
      "execution_count": null,
      "outputs": []
    },
    {
      "cell_type": "code",
      "metadata": {
        "id": "b4CB-sWow8Xa"
      },
      "source": [
        ""
      ],
      "execution_count": null,
      "outputs": []
    },
    {
      "cell_type": "code",
      "metadata": {
        "colab": {
          "base_uri": "https://localhost:8080/"
        },
        "id": "Zifmj-sirFYq",
        "outputId": "70874dd4-0dc7-4940-fe3b-2b721f9eeb8f"
      },
      "source": [
        "np.shape(X_dev)"
      ],
      "execution_count": null,
      "outputs": [
        {
          "output_type": "execute_result",
          "data": {
            "text/plain": [
              "(519, 35)"
            ]
          },
          "metadata": {
            "tags": []
          },
          "execution_count": 50
        }
      ]
    },
    {
      "cell_type": "code",
      "metadata": {
        "id": "0O6PBb4Fpy0r"
      },
      "source": [
        "def encode_output(sequences, vocab_size):\n",
        "  ylist = list()\n",
        "  for sequence in sequences:\n",
        "    encoded = to_categorical(sequence, num_classes=vocab_size)\n",
        "    ylist.append(encoded)\n",
        "  y = np.array(ylist)\n",
        "  print(\"shape of sequences {}\".format(np.shape(sequences)))\n",
        "  y = y.reshape(sequences.shape[0], sequences.shape[1], vocab_size)\n",
        "  return y\n"
      ],
      "execution_count": null,
      "outputs": []
    },
    {
      "cell_type": "code",
      "metadata": {
        "id": "VRVFzwsWp3Rz"
      },
      "source": [
        "Y_output_token = encode_sequences(tokenizer,54,text_token)"
      ],
      "execution_count": null,
      "outputs": []
    },
    {
      "cell_type": "code",
      "metadata": {
        "colab": {
          "base_uri": "https://localhost:8080/"
        },
        "id": "WTHflFMEqC9D",
        "outputId": "f2479f4b-3475-4cc3-84c0-c575c700e5c1"
      },
      "source": [
        "Y_output = encode_output(Y_output_token,1202)"
      ],
      "execution_count": null,
      "outputs": [
        {
          "output_type": "stream",
          "text": [
            "shape of sequences (7096, 54)\n"
          ],
          "name": "stdout"
        }
      ]
    },
    {
      "cell_type": "code",
      "metadata": {
        "id": "2dzXnAZKrW5O"
      },
      "source": [
        "Y_dev_token = encode_sequences(tokenizer,54,text_token_dev)"
      ],
      "execution_count": null,
      "outputs": []
    },
    {
      "cell_type": "code",
      "metadata": {
        "colab": {
          "base_uri": "https://localhost:8080/"
        },
        "id": "izzWOvKJ67At",
        "outputId": "0a4bbd13-93cb-4375-f3fb-f1833a00b8c8"
      },
      "source": [
        "Y_dev = encode_output(Y_dev_token,1202)"
      ],
      "execution_count": null,
      "outputs": [
        {
          "output_type": "stream",
          "text": [
            "shape of sequences (519, 54)\n"
          ],
          "name": "stdout"
        }
      ]
    },
    {
      "cell_type": "code",
      "metadata": {
        "id": "hgL_OszyxD2e"
      },
      "source": [
        "Y_test_token = encode_sequences(tokenizer,54,text_token_test)"
      ],
      "execution_count": null,
      "outputs": []
    },
    {
      "cell_type": "code",
      "metadata": {
        "colab": {
          "base_uri": "https://localhost:8080/"
        },
        "id": "-6xevt9ExDym",
        "outputId": "aeec9775-2803-47fa-f60e-afee8e1d27d8"
      },
      "source": [
        "Y_test = encode_output(Y_test_token,1202)"
      ],
      "execution_count": null,
      "outputs": [
        {
          "output_type": "stream",
          "text": [
            "shape of sequences (642, 54)\n"
          ],
          "name": "stdout"
        }
      ]
    },
    {
      "cell_type": "markdown",
      "metadata": {
        "id": "dJxIrqh17Dqc"
      },
      "source": [
        "# creating a model to convert gloss to text"
      ]
    },
    {
      "cell_type": "code",
      "metadata": {
        "id": "PDUu1_clpgLv"
      },
      "source": [
        "import collections\n",
        "\n",
        "import helper\n",
        "import numpy as np\n",
        "#import project_tests as tests\n",
        "\n",
        "from keras.preprocessing.text import Tokenizer\n",
        "from keras.preprocessing.sequence import pad_sequences\n",
        "from keras.models import Model, Sequential\n",
        "from keras.layers import GRU, Input, Dense, TimeDistributed, Activation, RepeatVector, Bidirectional, Dropout, LSTM\n",
        "from keras.layers.embeddings import Embedding\n",
        "from keras.optimizers import Adam\n",
        "from keras.losses import sparse_categorical_crossentropy\n",
        "from keras.layers.merge import add"
      ],
      "execution_count": null,
      "outputs": []
    },
    {
      "cell_type": "code",
      "metadata": {
        "colab": {
          "base_uri": "https://localhost:8080/"
        },
        "id": "FvrU4JD3o8aY",
        "outputId": "63ca6d8e-20a6-4a4b-de54-1803f94fb125"
      },
      "source": [
        "# define NMT model\n",
        "def define_model(src_vocab, tar_vocab, src_timesteps, tar_timesteps, n_units):\n",
        "\tmodel = Sequential()\n",
        "\tmodel.add(Embedding(src_vocab, n_units, input_length=src_timesteps, mask_zero=True))\n",
        "\tmodel.add(LSTM(n_units))\n",
        "\tmodel.add(RepeatVector(tar_timesteps))\n",
        "\tmodel.add(LSTM(n_units, return_sequences=True))\n",
        "\tmodel.add(TimeDistributed(Dense(tar_vocab, activation='softmax')))\n",
        "\treturn model\n",
        "\n",
        "# define model\n",
        "model = define_model(vocab_size_text, vocab_size_text, 35, 54, 256)\n",
        "model.compile(optimizer='adam', loss='categorical_crossentropy',metrics = ['accuracy'])\n",
        "# summarize defined model\n",
        "print(model.summary())\n",
        "#plot_model(model, to_file='model.png', show_shapes=True)"
      ],
      "execution_count": null,
      "outputs": [
        {
          "output_type": "stream",
          "text": [
            "Model: \"sequential\"\n",
            "_________________________________________________________________\n",
            "Layer (type)                 Output Shape              Param #   \n",
            "=================================================================\n",
            "embedding (Embedding)        (None, 35, 256)           307712    \n",
            "_________________________________________________________________\n",
            "lstm (LSTM)                  (None, 256)               525312    \n",
            "_________________________________________________________________\n",
            "repeat_vector (RepeatVector) (None, 54, 256)           0         \n",
            "_________________________________________________________________\n",
            "lstm_1 (LSTM)                (None, 54, 256)           525312    \n",
            "_________________________________________________________________\n",
            "time_distributed (TimeDistri (None, 54, 1202)          308914    \n",
            "=================================================================\n",
            "Total params: 1,667,250\n",
            "Trainable params: 1,667,250\n",
            "Non-trainable params: 0\n",
            "_________________________________________________________________\n",
            "None\n"
          ],
          "name": "stdout"
        }
      ]
    },
    {
      "cell_type": "code",
      "metadata": {
        "colab": {
          "base_uri": "https://localhost:8080/",
          "height": 1000
        },
        "id": "36ZvSt31pccq",
        "outputId": "245ca9dc-5fda-4272-9eb5-9de82785601f"
      },
      "source": [
        "model.fit(X_train, Y_output, epochs=100, batch_size=64, validation_data=(X_dev, Y_dev), verbose=2)"
      ],
      "execution_count": null,
      "outputs": [
        {
          "output_type": "stream",
          "text": [
            "Epoch 1/100\n",
            "111/111 - 133s - loss: 2.2929 - accuracy: 0.7163 - val_loss: 1.5824 - val_accuracy: 0.7443\n",
            "Epoch 2/100\n",
            "111/111 - 106s - loss: 1.6154 - accuracy: 0.7337 - val_loss: 1.4996 - val_accuracy: 0.7489\n",
            "Epoch 3/100\n",
            "111/111 - 104s - loss: 1.5810 - accuracy: 0.7379 - val_loss: 1.4806 - val_accuracy: 0.7512\n",
            "Epoch 4/100\n",
            "111/111 - 105s - loss: 1.5613 - accuracy: 0.7401 - val_loss: 1.4524 - val_accuracy: 0.7548\n",
            "Epoch 5/100\n",
            "111/111 - 105s - loss: 1.5315 - accuracy: 0.7428 - val_loss: 1.4298 - val_accuracy: 0.7578\n",
            "Epoch 6/100\n",
            "111/111 - 104s - loss: 1.5042 - accuracy: 0.7447 - val_loss: 1.3972 - val_accuracy: 0.7593\n",
            "Epoch 7/100\n",
            "111/111 - 104s - loss: 1.4736 - accuracy: 0.7469 - val_loss: 1.3674 - val_accuracy: 0.7628\n",
            "Epoch 8/100\n",
            "111/111 - 105s - loss: 1.4528 - accuracy: 0.7481 - val_loss: 1.3559 - val_accuracy: 0.7627\n",
            "Epoch 9/100\n",
            "111/111 - 104s - loss: 1.4238 - accuracy: 0.7500 - val_loss: 1.3293 - val_accuracy: 0.7645\n",
            "Epoch 10/100\n",
            "111/111 - 104s - loss: 1.4022 - accuracy: 0.7508 - val_loss: 1.3169 - val_accuracy: 0.7652\n",
            "Epoch 11/100\n",
            "111/111 - 104s - loss: 1.3889 - accuracy: 0.7516 - val_loss: 1.2993 - val_accuracy: 0.7671\n",
            "Epoch 12/100\n",
            "111/111 - 104s - loss: 1.3697 - accuracy: 0.7528 - val_loss: 1.2893 - val_accuracy: 0.7660\n",
            "Epoch 13/100\n",
            "111/111 - 104s - loss: 1.3572 - accuracy: 0.7541 - val_loss: 1.2926 - val_accuracy: 0.7660\n",
            "Epoch 14/100\n",
            "111/111 - 104s - loss: 1.3441 - accuracy: 0.7554 - val_loss: 1.2793 - val_accuracy: 0.7681\n",
            "Epoch 15/100\n",
            "111/111 - 104s - loss: 1.3310 - accuracy: 0.7559 - val_loss: 1.2612 - val_accuracy: 0.7695\n",
            "Epoch 16/100\n",
            "111/111 - 104s - loss: 1.3171 - accuracy: 0.7566 - val_loss: 1.2560 - val_accuracy: 0.7705\n",
            "Epoch 17/100\n",
            "111/111 - 104s - loss: 1.3061 - accuracy: 0.7572 - val_loss: 1.2510 - val_accuracy: 0.7711\n",
            "Epoch 18/100\n",
            "111/111 - 104s - loss: 1.2963 - accuracy: 0.7576 - val_loss: 1.2354 - val_accuracy: 0.7725\n",
            "Epoch 19/100\n",
            "111/111 - 105s - loss: 1.2849 - accuracy: 0.7587 - val_loss: 1.2345 - val_accuracy: 0.7713\n",
            "Epoch 20/100\n",
            "111/111 - 106s - loss: 1.2730 - accuracy: 0.7591 - val_loss: 1.2408 - val_accuracy: 0.7692\n",
            "Epoch 21/100\n",
            "111/111 - 104s - loss: 1.2604 - accuracy: 0.7596 - val_loss: 1.2207 - val_accuracy: 0.7729\n",
            "Epoch 22/100\n",
            "111/111 - 104s - loss: 1.2496 - accuracy: 0.7604 - val_loss: 1.2178 - val_accuracy: 0.7733\n",
            "Epoch 23/100\n",
            "111/111 - 106s - loss: 1.2333 - accuracy: 0.7610 - val_loss: 1.2091 - val_accuracy: 0.7736\n",
            "Epoch 24/100\n",
            "111/111 - 105s - loss: 1.2229 - accuracy: 0.7618 - val_loss: 1.2079 - val_accuracy: 0.7736\n",
            "Epoch 25/100\n",
            "111/111 - 105s - loss: 1.2110 - accuracy: 0.7625 - val_loss: 1.2040 - val_accuracy: 0.7739\n",
            "Epoch 26/100\n",
            "111/111 - 104s - loss: 1.1988 - accuracy: 0.7630 - val_loss: 1.2114 - val_accuracy: 0.7730\n",
            "Epoch 27/100\n",
            "111/111 - 105s - loss: 1.1852 - accuracy: 0.7642 - val_loss: 1.2068 - val_accuracy: 0.7756\n",
            "Epoch 28/100\n",
            "111/111 - 104s - loss: 1.1723 - accuracy: 0.7654 - val_loss: 1.2000 - val_accuracy: 0.7750\n",
            "Epoch 29/100\n"
          ],
          "name": "stdout"
        },
        {
          "output_type": "error",
          "ename": "KeyboardInterrupt",
          "evalue": "ignored",
          "traceback": [
            "\u001b[0;31m---------------------------------------------------------------------------\u001b[0m",
            "\u001b[0;31mKeyboardInterrupt\u001b[0m                         Traceback (most recent call last)",
            "\u001b[0;32m<ipython-input-60-c2388040f5e0>\u001b[0m in \u001b[0;36m<module>\u001b[0;34m()\u001b[0m\n\u001b[0;32m----> 1\u001b[0;31m \u001b[0mmodel\u001b[0m\u001b[0;34m.\u001b[0m\u001b[0mfit\u001b[0m\u001b[0;34m(\u001b[0m\u001b[0mX_train\u001b[0m\u001b[0;34m,\u001b[0m \u001b[0mY_output\u001b[0m\u001b[0;34m,\u001b[0m \u001b[0mepochs\u001b[0m\u001b[0;34m=\u001b[0m\u001b[0;36m100\u001b[0m\u001b[0;34m,\u001b[0m \u001b[0mbatch_size\u001b[0m\u001b[0;34m=\u001b[0m\u001b[0;36m64\u001b[0m\u001b[0;34m,\u001b[0m \u001b[0mvalidation_data\u001b[0m\u001b[0;34m=\u001b[0m\u001b[0;34m(\u001b[0m\u001b[0mX_dev\u001b[0m\u001b[0;34m,\u001b[0m \u001b[0mY_dev\u001b[0m\u001b[0;34m)\u001b[0m\u001b[0;34m,\u001b[0m \u001b[0mverbose\u001b[0m\u001b[0;34m=\u001b[0m\u001b[0;36m2\u001b[0m\u001b[0;34m)\u001b[0m\u001b[0;34m\u001b[0m\u001b[0;34m\u001b[0m\u001b[0m\n\u001b[0m",
            "\u001b[0;32m/usr/local/lib/python3.7/dist-packages/keras/engine/training.py\u001b[0m in \u001b[0;36mfit\u001b[0;34m(self, x, y, batch_size, epochs, verbose, callbacks, validation_split, validation_data, shuffle, class_weight, sample_weight, initial_epoch, steps_per_epoch, validation_steps, validation_batch_size, validation_freq, max_queue_size, workers, use_multiprocessing)\u001b[0m\n\u001b[1;32m   1156\u001b[0m                 _r=1):\n\u001b[1;32m   1157\u001b[0m               \u001b[0mcallbacks\u001b[0m\u001b[0;34m.\u001b[0m\u001b[0mon_train_batch_begin\u001b[0m\u001b[0;34m(\u001b[0m\u001b[0mstep\u001b[0m\u001b[0;34m)\u001b[0m\u001b[0;34m\u001b[0m\u001b[0;34m\u001b[0m\u001b[0m\n\u001b[0;32m-> 1158\u001b[0;31m               \u001b[0mtmp_logs\u001b[0m \u001b[0;34m=\u001b[0m \u001b[0mself\u001b[0m\u001b[0;34m.\u001b[0m\u001b[0mtrain_function\u001b[0m\u001b[0;34m(\u001b[0m\u001b[0miterator\u001b[0m\u001b[0;34m)\u001b[0m\u001b[0;34m\u001b[0m\u001b[0;34m\u001b[0m\u001b[0m\n\u001b[0m\u001b[1;32m   1159\u001b[0m               \u001b[0;32mif\u001b[0m \u001b[0mdata_handler\u001b[0m\u001b[0;34m.\u001b[0m\u001b[0mshould_sync\u001b[0m\u001b[0;34m:\u001b[0m\u001b[0;34m\u001b[0m\u001b[0;34m\u001b[0m\u001b[0m\n\u001b[1;32m   1160\u001b[0m                 \u001b[0mcontext\u001b[0m\u001b[0;34m.\u001b[0m\u001b[0masync_wait\u001b[0m\u001b[0;34m(\u001b[0m\u001b[0;34m)\u001b[0m\u001b[0;34m\u001b[0m\u001b[0;34m\u001b[0m\u001b[0m\n",
            "\u001b[0;32m/usr/local/lib/python3.7/dist-packages/tensorflow/python/eager/def_function.py\u001b[0m in \u001b[0;36m__call__\u001b[0;34m(self, *args, **kwds)\u001b[0m\n\u001b[1;32m    887\u001b[0m \u001b[0;34m\u001b[0m\u001b[0m\n\u001b[1;32m    888\u001b[0m       \u001b[0;32mwith\u001b[0m \u001b[0mOptionalXlaContext\u001b[0m\u001b[0;34m(\u001b[0m\u001b[0mself\u001b[0m\u001b[0;34m.\u001b[0m\u001b[0m_jit_compile\u001b[0m\u001b[0;34m)\u001b[0m\u001b[0;34m:\u001b[0m\u001b[0;34m\u001b[0m\u001b[0;34m\u001b[0m\u001b[0m\n\u001b[0;32m--> 889\u001b[0;31m         \u001b[0mresult\u001b[0m \u001b[0;34m=\u001b[0m \u001b[0mself\u001b[0m\u001b[0;34m.\u001b[0m\u001b[0m_call\u001b[0m\u001b[0;34m(\u001b[0m\u001b[0;34m*\u001b[0m\u001b[0margs\u001b[0m\u001b[0;34m,\u001b[0m \u001b[0;34m**\u001b[0m\u001b[0mkwds\u001b[0m\u001b[0;34m)\u001b[0m\u001b[0;34m\u001b[0m\u001b[0;34m\u001b[0m\u001b[0m\n\u001b[0m\u001b[1;32m    890\u001b[0m \u001b[0;34m\u001b[0m\u001b[0m\n\u001b[1;32m    891\u001b[0m       \u001b[0mnew_tracing_count\u001b[0m \u001b[0;34m=\u001b[0m \u001b[0mself\u001b[0m\u001b[0;34m.\u001b[0m\u001b[0mexperimental_get_tracing_count\u001b[0m\u001b[0;34m(\u001b[0m\u001b[0;34m)\u001b[0m\u001b[0;34m\u001b[0m\u001b[0;34m\u001b[0m\u001b[0m\n",
            "\u001b[0;32m/usr/local/lib/python3.7/dist-packages/tensorflow/python/eager/def_function.py\u001b[0m in \u001b[0;36m_call\u001b[0;34m(self, *args, **kwds)\u001b[0m\n\u001b[1;32m    915\u001b[0m       \u001b[0;31m# In this case we have created variables on the first call, so we run the\u001b[0m\u001b[0;34m\u001b[0m\u001b[0;34m\u001b[0m\u001b[0;34m\u001b[0m\u001b[0m\n\u001b[1;32m    916\u001b[0m       \u001b[0;31m# defunned version which is guaranteed to never create variables.\u001b[0m\u001b[0;34m\u001b[0m\u001b[0;34m\u001b[0m\u001b[0;34m\u001b[0m\u001b[0m\n\u001b[0;32m--> 917\u001b[0;31m       \u001b[0;32mreturn\u001b[0m \u001b[0mself\u001b[0m\u001b[0;34m.\u001b[0m\u001b[0m_stateless_fn\u001b[0m\u001b[0;34m(\u001b[0m\u001b[0;34m*\u001b[0m\u001b[0margs\u001b[0m\u001b[0;34m,\u001b[0m \u001b[0;34m**\u001b[0m\u001b[0mkwds\u001b[0m\u001b[0;34m)\u001b[0m  \u001b[0;31m# pylint: disable=not-callable\u001b[0m\u001b[0;34m\u001b[0m\u001b[0;34m\u001b[0m\u001b[0m\n\u001b[0m\u001b[1;32m    918\u001b[0m     \u001b[0;32melif\u001b[0m \u001b[0mself\u001b[0m\u001b[0;34m.\u001b[0m\u001b[0m_stateful_fn\u001b[0m \u001b[0;32mis\u001b[0m \u001b[0;32mnot\u001b[0m \u001b[0;32mNone\u001b[0m\u001b[0;34m:\u001b[0m\u001b[0;34m\u001b[0m\u001b[0;34m\u001b[0m\u001b[0m\n\u001b[1;32m    919\u001b[0m       \u001b[0;31m# Release the lock early so that multiple threads can perform the call\u001b[0m\u001b[0;34m\u001b[0m\u001b[0;34m\u001b[0m\u001b[0;34m\u001b[0m\u001b[0m\n",
            "\u001b[0;32m/usr/local/lib/python3.7/dist-packages/tensorflow/python/eager/function.py\u001b[0m in \u001b[0;36m__call__\u001b[0;34m(self, *args, **kwargs)\u001b[0m\n\u001b[1;32m   3022\u001b[0m        filtered_flat_args) = self._maybe_define_function(args, kwargs)\n\u001b[1;32m   3023\u001b[0m     return graph_function._call_flat(\n\u001b[0;32m-> 3024\u001b[0;31m         filtered_flat_args, captured_inputs=graph_function.captured_inputs)  # pylint: disable=protected-access\n\u001b[0m\u001b[1;32m   3025\u001b[0m \u001b[0;34m\u001b[0m\u001b[0m\n\u001b[1;32m   3026\u001b[0m   \u001b[0;34m@\u001b[0m\u001b[0mproperty\u001b[0m\u001b[0;34m\u001b[0m\u001b[0;34m\u001b[0m\u001b[0m\n",
            "\u001b[0;32m/usr/local/lib/python3.7/dist-packages/tensorflow/python/eager/function.py\u001b[0m in \u001b[0;36m_call_flat\u001b[0;34m(self, args, captured_inputs, cancellation_manager)\u001b[0m\n\u001b[1;32m   1959\u001b[0m       \u001b[0;31m# No tape is watching; skip to running the function.\u001b[0m\u001b[0;34m\u001b[0m\u001b[0;34m\u001b[0m\u001b[0;34m\u001b[0m\u001b[0m\n\u001b[1;32m   1960\u001b[0m       return self._build_call_outputs(self._inference_function.call(\n\u001b[0;32m-> 1961\u001b[0;31m           ctx, args, cancellation_manager=cancellation_manager))\n\u001b[0m\u001b[1;32m   1962\u001b[0m     forward_backward = self._select_forward_and_backward_functions(\n\u001b[1;32m   1963\u001b[0m         \u001b[0margs\u001b[0m\u001b[0;34m,\u001b[0m\u001b[0;34m\u001b[0m\u001b[0;34m\u001b[0m\u001b[0m\n",
            "\u001b[0;32m/usr/local/lib/python3.7/dist-packages/tensorflow/python/eager/function.py\u001b[0m in \u001b[0;36mcall\u001b[0;34m(self, ctx, args, cancellation_manager)\u001b[0m\n\u001b[1;32m    594\u001b[0m               \u001b[0minputs\u001b[0m\u001b[0;34m=\u001b[0m\u001b[0margs\u001b[0m\u001b[0;34m,\u001b[0m\u001b[0;34m\u001b[0m\u001b[0;34m\u001b[0m\u001b[0m\n\u001b[1;32m    595\u001b[0m               \u001b[0mattrs\u001b[0m\u001b[0;34m=\u001b[0m\u001b[0mattrs\u001b[0m\u001b[0;34m,\u001b[0m\u001b[0;34m\u001b[0m\u001b[0;34m\u001b[0m\u001b[0m\n\u001b[0;32m--> 596\u001b[0;31m               ctx=ctx)\n\u001b[0m\u001b[1;32m    597\u001b[0m         \u001b[0;32melse\u001b[0m\u001b[0;34m:\u001b[0m\u001b[0;34m\u001b[0m\u001b[0;34m\u001b[0m\u001b[0m\n\u001b[1;32m    598\u001b[0m           outputs = execute.execute_with_cancellation(\n",
            "\u001b[0;32m/usr/local/lib/python3.7/dist-packages/tensorflow/python/eager/execute.py\u001b[0m in \u001b[0;36mquick_execute\u001b[0;34m(op_name, num_outputs, inputs, attrs, ctx, name)\u001b[0m\n\u001b[1;32m     58\u001b[0m     \u001b[0mctx\u001b[0m\u001b[0;34m.\u001b[0m\u001b[0mensure_initialized\u001b[0m\u001b[0;34m(\u001b[0m\u001b[0;34m)\u001b[0m\u001b[0;34m\u001b[0m\u001b[0;34m\u001b[0m\u001b[0m\n\u001b[1;32m     59\u001b[0m     tensors = pywrap_tfe.TFE_Py_Execute(ctx._handle, device_name, op_name,\n\u001b[0;32m---> 60\u001b[0;31m                                         inputs, attrs, num_outputs)\n\u001b[0m\u001b[1;32m     61\u001b[0m   \u001b[0;32mexcept\u001b[0m \u001b[0mcore\u001b[0m\u001b[0;34m.\u001b[0m\u001b[0m_NotOkStatusException\u001b[0m \u001b[0;32mas\u001b[0m \u001b[0me\u001b[0m\u001b[0;34m:\u001b[0m\u001b[0;34m\u001b[0m\u001b[0;34m\u001b[0m\u001b[0m\n\u001b[1;32m     62\u001b[0m     \u001b[0;32mif\u001b[0m \u001b[0mname\u001b[0m \u001b[0;32mis\u001b[0m \u001b[0;32mnot\u001b[0m \u001b[0;32mNone\u001b[0m\u001b[0;34m:\u001b[0m\u001b[0;34m\u001b[0m\u001b[0;34m\u001b[0m\u001b[0m\n",
            "\u001b[0;31mKeyboardInterrupt\u001b[0m: "
          ]
        }
      ]
    },
    {
      "cell_type": "markdown",
      "metadata": {
        "id": "lPvLBNHWqpTd"
      },
      "source": [
        "# prediction "
      ]
    },
    {
      "cell_type": "code",
      "metadata": {
        "id": "z6LNrBbv5IuI"
      },
      "source": [
        "from nltk.translate.bleu_score import corpus_bleu"
      ],
      "execution_count": null,
      "outputs": []
    },
    {
      "cell_type": "code",
      "metadata": {
        "id": "mo38ez8bwYQE"
      },
      "source": [
        "def word_for_id(integer, tokenizer):\n",
        "\tfor word, index in tokenizer.word_index.items():\n",
        "\t\tif index == integer:\n",
        "\t\t\treturn word\n",
        "\treturn None"
      ],
      "execution_count": null,
      "outputs": []
    },
    {
      "cell_type": "code",
      "metadata": {
        "id": "LVmIJSBgv9ze"
      },
      "source": [
        "# generate target given source sequence\n",
        "def predict_sequence(model, tokenizer, source):\n",
        "\tprediction = model.predict(source, verbose=0)[0]\n",
        "\tintegers = [np.argmax(vector) for vector in prediction]\n",
        "\ttarget = list()\n",
        "\tfor i in integers:\n",
        "\t\tword = word_for_id(i, tokenizer)\n",
        "\t\tif word is None:\n",
        "\t\t\tbreak\n",
        "\t\ttarget.append(word)\n",
        "\treturn ' '.join(target)"
      ],
      "execution_count": null,
      "outputs": []
    },
    {
      "cell_type": "code",
      "metadata": {
        "colab": {
          "base_uri": "https://localhost:8080/"
        },
        "id": "n3H3yMp705Pm",
        "outputId": "c84dd40c-3d73-4b4a-807a-01881482e31a"
      },
      "source": [
        "#!pip install jiwer"
      ],
      "execution_count": null,
      "outputs": [
        {
          "output_type": "stream",
          "text": [
            "Collecting jiwer\n",
            "  Downloading https://files.pythonhosted.org/packages/8c/cc/fb9d3132cba1f6d393b7d5a9398d9d4c8fc033bc54668cf87e9b197a6d7a/jiwer-2.2.0-py3-none-any.whl\n",
            "Requirement already satisfied: numpy in /usr/local/lib/python3.7/dist-packages (from jiwer) (1.19.5)\n",
            "Collecting python-Levenshtein\n",
            "\u001b[?25l  Downloading https://files.pythonhosted.org/packages/2a/dc/97f2b63ef0fa1fd78dcb7195aca577804f6b2b51e712516cc0e902a9a201/python-Levenshtein-0.12.2.tar.gz (50kB)\n",
            "\u001b[K     |████████████████████████████████| 51kB 2.8MB/s \n",
            "\u001b[?25hRequirement already satisfied: setuptools in /usr/local/lib/python3.7/dist-packages (from python-Levenshtein->jiwer) (57.0.0)\n",
            "Building wheels for collected packages: python-Levenshtein\n",
            "  Building wheel for python-Levenshtein (setup.py) ... \u001b[?25l\u001b[?25hdone\n",
            "  Created wheel for python-Levenshtein: filename=python_Levenshtein-0.12.2-cp37-cp37m-linux_x86_64.whl size=149805 sha256=48d2bd73acbc31f7f3ededd64b7f9a6b26e68dcc0df94ebb7ac1d8c207a31ed1\n",
            "  Stored in directory: /root/.cache/pip/wheels/b3/26/73/4b48503bac73f01cf18e52cd250947049a7f339e940c5df8fc\n",
            "Successfully built python-Levenshtein\n",
            "Installing collected packages: python-Levenshtein, jiwer\n",
            "Successfully installed jiwer-2.2.0 python-Levenshtein-0.12.2\n"
          ],
          "name": "stdout"
        }
      ]
    },
    {
      "cell_type": "code",
      "metadata": {
        "id": "6-k2_h3c03Ex"
      },
      "source": [
        "import jiwer"
      ],
      "execution_count": null,
      "outputs": []
    },
    {
      "cell_type": "code",
      "metadata": {
        "id": "1yFndnEywBt0"
      },
      "source": [
        "# evaluate the skill of the model\n",
        "def evaluate_model(model, tokenizer, sources, raw_dataset,raw_result):\n",
        "  actual, predicted = list(), list()\n",
        "  actual_temp, predicted_temp = list(),list()\n",
        "  for i, source in enumerate(sources):\n",
        "  # translate encoded source text\n",
        "    source = source.reshape((1, source.shape[0]))\n",
        "    translation = predict_sequence(model, tokenizer, source)\n",
        "    raw_target, raw_src = raw_result[i],raw_dataset[i]\n",
        "    if i < 10:\n",
        "      print('src=[%s], target=[%s], predicted=[%s]' % (raw_src, raw_target, translation))\n",
        "      actual.append([raw_target.split()])\n",
        "      predicted.append(translation.split())\n",
        "  # for i in range(len(sources)):\n",
        "  #   temp_sent = ''\n",
        "  #   #temp_desc = ''\n",
        "  #   print(\"predicted i {},prediction{} \".format(i,predicted[i]))\n",
        "  #   for j in predicted[i]:\n",
        "  #     print(\"word in predicted i is \",j)\n",
        "  #     temp_sent = temp_sent+\" \"+j\n",
        "  #   #temp_desc = temp_desc + description[i]\n",
        "  #   predicted_temp.append(temp_sent)\n",
        "  #   #actual_temp.append()\n",
        "    \n",
        "  # for i in range(len(sources)):\n",
        "  #   temp_desc = ''\n",
        "  #   print(\"actual i {},actual{} \".format(i,sources[i]))\n",
        "  #   for j in descriptions[i]:\n",
        "  #     temp_desc = temp_desc+\" \"+j\n",
        "\n",
        "  #   actual_temp.append(temp_desc)\n",
        "\n",
        "\n",
        "  #calculate BLEU score\n",
        "  print('BLEU-1: %f' % corpus_bleu(actual, predicted, weights=(1.0, 0, 0, 0)))\n",
        "  print('BLEU-2: %f' % corpus_bleu(actual, predicted, weights=(0.5, 0.5, 0, 0)))\n",
        "  print('BLEU-3: %f' % corpus_bleu(actual, predicted, weights=(0.3, 0.3, 0.3, 0)))\n",
        "  print('BLEU-4: %f' % corpus_bleu(actual, predicted, weights=(0.25, 0.25, 0.25, 0.25)))\n",
        "  #print(\"word error rate is\",jiwer.wer(raw_src,translation))"
      ],
      "execution_count": null,
      "outputs": []
    },
    {
      "cell_type": "code",
      "metadata": {
        "colab": {
          "base_uri": "https://localhost:8080/"
        },
        "id": "2t6tk7NvwBqF",
        "outputId": "0467a36b-b1f5-44d6-860d-75a2825b5375"
      },
      "source": [
        "evaluate_model(model, tokenizer, X_test, gloss_token_test,text_token_test)"
      ],
      "execution_count": null,
      "outputs": [
        {
          "output_type": "stream",
          "text": [
            "src=[startseq regen schnee region verschwinden nord regen koennen region stern koennen sehen endseq], target=[startseq regen und schnee lassen an den alpen in der nacht nach im norden und nordosten fallen hier und da schauer sonst ist das klar endseq], predicted=[startseq im der regnet es es der der der der der der der der]\n",
            "src=[startseq donnerstag nordwest regen region sonne wolke wechselhaft dann freitag aehnlich wetter endseq], target=[startseq am donnerstag regen in der nordhälfte in der südhälfte mal sonne mal wolken ähnliches wetter dann auch am freitag endseq], predicted=[startseq am donnerstag wird es im im regen regen und und und und und]\n",
            "src=[startseq kraeftig ab morgen frueh meistens schnee schneien kalt regen endseq], target=[startseq vom nordmeer zieht ein kräftiges tief heran und bringt uns ab den morgenstunden heftige schneefälle zum teil auch gefrierenden regen endseq], predicted=[startseq morgen morgen es es es regen regen regen regen regen]\n",
            "src=[startseq wochenende sonne samstag schoen temperatur bis siebzehn grad region endseq], target=[startseq sonnig geht es auch ins wochenende samstag ein herrlicher tag mit temperaturen bis siebzehn grad hier im westen endseq], predicted=[startseq am samstag wird es es die die die bis bis]\n",
            "src=[startseq deutsch land morgen hoch druck kommen wolke aufloesen endseq], target=[startseq deutschland liegt morgen unter hochdruckeinfluss der die wolken weitgehend vertreibt endseq], predicted=[startseq morgen tief morgen morgen morgen morgen morgen]\n",
            "src=[startseq sonntag naechste nordwest wolke sonne wolke gewitter regen dabei endseq], target=[startseq am sonntag im nordwesten eine mischung aus sonne und wolken mit einigen zum teil gewittrigen schauern endseq], predicted=[startseq am sonntag im es wolken wolken wolken und und und und und und]\n",
            "src=[startseq wahrscheinlich schauer gewitter stark endseq], target=[startseq örtlich schauer oder gewitter die heftig sein können endseq], predicted=[startseq im der sind es schauer schauer schauer gewitter und]\n",
            "src=[startseq im-verlauf bleiben kalt enorm schnee koennen endseq], target=[startseq in den nächsten tagen geht es auf jeden fall winterlich weiter immer wieder mal mit etwas schnee endseq], predicted=[startseq und den es es es es endseq endseq]\n",
            "src=[startseq wochenende ix mehr kalt endseq], target=[startseq und zum wochenende wird es dann sogar wieder ein bisschen kälter endseq], predicted=[startseq am sonntag wird es es endseq endseq]\n",
            "src=[startseq morgen dann herbst mischung hoch nebel wolke sonne endseq], target=[startseq auch morgen erwartet uns eine ruhige herbstmischung aus hochnebel wolken und sonne endseq], predicted=[startseq morgen morgen sich sich die die die die die die die]\n",
            "BLEU-1: 0.172089\n",
            "BLEU-2: 0.075786\n",
            "BLEU-3: 0.060676\n",
            "BLEU-4: 0.029308\n"
          ],
          "name": "stdout"
        }
      ]
    },
    {
      "cell_type": "code",
      "metadata": {
        "id": "1CykstIpwBm9"
      },
      "source": [
        ""
      ],
      "execution_count": null,
      "outputs": []
    },
    {
      "cell_type": "markdown",
      "metadata": {
        "id": "xMXLj7DrwBi-"
      },
      "source": [
        "# creating attention models for learning gloss to german langauge\n"
      ]
    },
    {
      "cell_type": "markdown",
      "metadata": {
        "id": "Pl80SerowBfD"
      },
      "source": [
        "### creating index to word and word to index mapping"
      ]
    },
    {
      "cell_type": "code",
      "metadata": {
        "id": "9y7LaodcwBYF"
      },
      "source": [
        ""
      ],
      "execution_count": null,
      "outputs": []
    }
  ]
}