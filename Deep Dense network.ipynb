{
 "cells": [
  {
   "cell_type": "code",
   "execution_count": 1,
   "metadata": {},
   "outputs": [],
   "source": [
    "import numpy as np\n",
    "import pandas as pd\n",
    "import tensorflow as tf\n",
    "import matplotlib.pyplot as plt\n",
    "from tensorflow.keras.models import Sequential\n",
    "from tensorflow.keras.layers import Dense,Softmax,Flatten\n",
    "import os\n",
    "import cv2\n"
   ]
  },
  {
   "cell_type": "markdown",
   "metadata": {},
   "source": [
    "## importing Dataset"
   ]
  },
  {
   "cell_type": "markdown",
   "metadata": {},
   "source": [
    "Datadir=\"D:\\imp docs\\sem3\\project\\Implementation\\imp1\\model cnn\"\n",
    "Categories = [\"1\",\"2\",\"3\",\"4\",\"5\",\"6\",\"7\",\"8\",\"9\",\"0\",\"unknown\"]"
   ]
  },
  {
   "cell_type": "code",
   "execution_count": 28,
   "metadata": {},
   "outputs": [],
   "source": [
    "import pickle"
   ]
  },
  {
   "cell_type": "code",
   "execution_count": 29,
   "metadata": {},
   "outputs": [],
   "source": [
    "pickle_in = open(\"X.pickle\" , \"rb\")\n",
    "X = pickle.load(pickle_in)\n",
    "\n"
   ]
  },
  {
   "cell_type": "code",
   "execution_count": 30,
   "metadata": {},
   "outputs": [],
   "source": [
    "pickle_on = open(\"Y.pickle\" ,\"rb\")\n",
    "Y= pickle.load(pickle_on)"
   ]
  },
  {
   "cell_type": "markdown",
   "metadata": {},
   "source": [
    "# splitting the dataset"
   ]
  },
  {
   "cell_type": "code",
   "execution_count": 31,
   "metadata": {},
   "outputs": [],
   "source": [
    "from sklearn.model_selection import train_test_split"
   ]
  },
  {
   "cell_type": "code",
   "execution_count": 32,
   "metadata": {},
   "outputs": [],
   "source": [
    "X_train_orig , X_test_orig ,Y_train ,Y_test = train_test_split(X,Y,test_size = 0.30)"
   ]
  },
  {
   "cell_type": "code",
   "execution_count": 33,
   "metadata": {},
   "outputs": [],
   "source": [
    "Y_train = np.array(Y_train)"
   ]
  },
  {
   "cell_type": "code",
   "execution_count": 34,
   "metadata": {},
   "outputs": [],
   "source": [
    "Y_test  = np.array(Y_test)"
   ]
  },
  {
   "cell_type": "code",
   "execution_count": 35,
   "metadata": {},
   "outputs": [
    {
     "data": {
      "text/plain": [
       "(10500,)"
      ]
     },
     "execution_count": 35,
     "metadata": {},
     "output_type": "execute_result"
    }
   ],
   "source": [
    "Y_train.shape"
   ]
  },
  {
   "cell_type": "code",
   "execution_count": 36,
   "metadata": {},
   "outputs": [
    {
     "data": {
      "text/plain": [
       "(4500,)"
      ]
     },
     "execution_count": 36,
     "metadata": {},
     "output_type": "execute_result"
    }
   ],
   "source": [
    "Y_test.shape"
   ]
  },
  {
   "cell_type": "code",
   "execution_count": 37,
   "metadata": {},
   "outputs": [
    {
     "data": {
      "text/plain": [
       "(10500, 70, 70, 1)"
      ]
     },
     "execution_count": 37,
     "metadata": {},
     "output_type": "execute_result"
    }
   ],
   "source": [
    "X_train_orig.shape"
   ]
  },
  {
   "cell_type": "code",
   "execution_count": 38,
   "metadata": {},
   "outputs": [
    {
     "data": {
      "text/plain": [
       "(4500, 70, 70, 1)"
      ]
     },
     "execution_count": 38,
     "metadata": {},
     "output_type": "execute_result"
    }
   ],
   "source": [
    "X_test_orig.shape"
   ]
  },
  {
   "cell_type": "markdown",
   "metadata": {},
   "source": [
    "# setting number of total training and test size"
   ]
  },
  {
   "cell_type": "code",
   "execution_count": 39,
   "metadata": {},
   "outputs": [],
   "source": [
    "m_train = X_train_orig.shape[0]\n",
    "m_test = X_test_orig.shape[0]\n",
    "num_px = X_train_orig.shape[1]"
   ]
  },
  {
   "cell_type": "code",
   "execution_count": 40,
   "metadata": {},
   "outputs": [
    {
     "name": "stdout",
     "output_type": "stream",
     "text": [
      "number of trianing examples : m_train = 10500\n",
      "numver of test examples : m_test = 4500\n",
      "dimensions of each images is  : (num_px,num_px) = (70,70)\n"
     ]
    }
   ],
   "source": [
    "print(\"number of trianing examples : m_train = {}\".format(m_train))\n",
    "print(\"numver of test examples : m_test = {}\".format(m_test))\n",
    "print(\"dimensions of each images is  : (num_px,num_px) = ({},{})\".format(num_px,num_px))"
   ]
  },
  {
   "cell_type": "code",
   "execution_count": 41,
   "metadata": {},
   "outputs": [],
   "source": [
    "X_train = X_train_orig/255.\n",
    "X_test = X_test_orig/255."
   ]
  },
  {
   "cell_type": "code",
   "execution_count": 42,
   "metadata": {},
   "outputs": [
    {
     "data": {
      "text/plain": [
       "array([9, 8, 7, 2, 8, 1, 4, 0, 9, 5, 9, 4, 3, 5, 2, 9, 2, 2, 8, 3, 9, 5,\n",
       "       3, 9, 4, 4, 0, 9, 5, 0, 5, 8, 4, 9, 9, 4, 8, 9, 0, 6, 7, 4, 3, 5,\n",
       "       5, 8, 8, 7, 5, 8])"
      ]
     },
     "execution_count": 42,
     "metadata": {},
     "output_type": "execute_result"
    }
   ],
   "source": [
    "Y_train[0:50]"
   ]
  },
  {
   "cell_type": "code",
   "execution_count": 43,
   "metadata": {},
   "outputs": [
    {
     "data": {
      "text/plain": [
       "array([[0.65882353],\n",
       "       [0.65882353],\n",
       "       [0.65882353],\n",
       "       [0.65882353],\n",
       "       [0.65882353],\n",
       "       [0.65490196],\n",
       "       [0.65490196],\n",
       "       [0.65490196],\n",
       "       [0.65490196],\n",
       "       [0.65490196],\n",
       "       [0.65490196],\n",
       "       [0.65490196],\n",
       "       [0.65098039],\n",
       "       [0.65098039],\n",
       "       [0.64705882],\n",
       "       [0.64705882],\n",
       "       [0.64705882],\n",
       "       [0.64705882],\n",
       "       [0.64705882],\n",
       "       [0.64705882],\n",
       "       [0.64705882],\n",
       "       [0.64705882],\n",
       "       [0.64705882],\n",
       "       [0.64313725],\n",
       "       [0.63921569],\n",
       "       [0.64313725],\n",
       "       [0.64313725],\n",
       "       [0.64313725],\n",
       "       [0.64313725],\n",
       "       [0.63921569],\n",
       "       [0.63529412],\n",
       "       [0.63529412],\n",
       "       [0.63529412],\n",
       "       [0.63529412],\n",
       "       [0.63137255],\n",
       "       [0.63137255],\n",
       "       [0.63137255],\n",
       "       [0.63137255],\n",
       "       [0.63137255],\n",
       "       [0.62745098],\n",
       "       [0.62745098],\n",
       "       [0.62352941],\n",
       "       [0.62352941],\n",
       "       [0.61960784],\n",
       "       [0.61960784],\n",
       "       [0.61960784],\n",
       "       [0.61960784],\n",
       "       [0.61960784],\n",
       "       [0.61960784],\n",
       "       [0.61960784],\n",
       "       [0.61960784],\n",
       "       [0.61960784],\n",
       "       [0.61568627],\n",
       "       [0.61568627],\n",
       "       [0.61568627],\n",
       "       [0.61568627],\n",
       "       [0.61960784],\n",
       "       [0.61960784],\n",
       "       [0.62352941],\n",
       "       [0.62352941],\n",
       "       [0.61960784],\n",
       "       [0.61960784],\n",
       "       [0.61960784],\n",
       "       [0.61960784],\n",
       "       [0.61568627],\n",
       "       [0.61568627],\n",
       "       [0.61568627],\n",
       "       [0.61568627],\n",
       "       [0.61176471],\n",
       "       [0.61176471]])"
      ]
     },
     "execution_count": 43,
     "metadata": {},
     "output_type": "execute_result"
    }
   ],
   "source": [
    "X_train[0,5]"
   ]
  },
  {
   "cell_type": "markdown",
   "metadata": {},
   "source": [
    "# building network\n"
   ]
  },
  {
   "cell_type": "code",
   "execution_count": 44,
   "metadata": {},
   "outputs": [],
   "source": [
    "# def get_model(input_shape):\n",
    "#     model=Sequential()\n",
    "#     model.add(Flatten(input_shape = input_shape))\n",
    "#     model.add(Dense(200,kernel_initializer = tf.keras.initializers.RandomNormal(mean =0.0,stddev = 0.05),bias_initializer = \"Zeros\",activation =\"sigmoid\",input_shape = input_shape,name = \"hidden_layer_1\"))\n",
    "#     model.add(Dense(200,kernel_initializer = tf.keras.initializers.RandomNormal(mean =0.0,stddev = 0.05),bias_initializer =\"Zeros\", activation = \"sigmoid\",name = \"hidden_layer_2\"))\n",
    "#     model.add(Dense(120,kernel_initializer = tf.keras.initializers.RandomNormal(mean =0.0,stddev = 0.05),bias_initializer =\"Zeros\",activation =\"relu\",name =\"hidden_relu_layer_1\"))\n",
    "#     model.add(Dense(75,kernel_initializer = tf.keras.initializers.RandomNormal(mean =0.0,stddev = 0.05),bias_initializer =\"Zeros\",activation = \"sigmoid\",name = \"hidden_layer_3\"))\n",
    "#     model.add(Dense(50,kernel_initializer = tf.keras.initializers.RandomNormal(mean =0.0,stddev = 0.05),bias_initializer =\"Zeros\",activation =\"relu\",name= \"hidden_Relu_2\"))\n",
    "#     model.add(Dense(10,kernel_initializer = tf.keras.initializers.RandomNormal(mean =0.0,stddev = 0.05),bias_initializer =\"Zeros\",activation =\"softmax\",name = \"output_layer\"))\n",
    "#     return model"
   ]
  },
  {
   "cell_type": "code",
   "execution_count": 45,
   "metadata": {},
   "outputs": [],
   "source": [
    "def get_model(input_shape):\n",
    "    model=Sequential()\n",
    "    model.add(Flatten(input_shape = input_shape))\n",
    "    model.add(Dense(128,activation =\"relu\",name = \"hidden_layer_1\"))\n",
    "    model.add(Dense(128, activation = \"relu\",name = \"hidden_layer_2\"))\n",
    "    model.add(Dense(128,activation =\"relu\",name =\"hidden_relu_layer_1\"))\n",
    "    model.add(Dense(64,activation = \"relu\",name = \"hidden_layer_3\"))\n",
    "    model.add(Dense(64,activation =\"relu\",name= \"hidden_Relu_2\"))\n",
    "    model.add(Dense(10,activation =\"softmax\",name = \"output_layer\"))\n",
    "    return model"
   ]
  },
  {
   "cell_type": "markdown",
   "metadata": {},
   "source": [
    "def get_model(input_shape):\n",
    "    \n"
   ]
  },
  {
   "cell_type": "code",
   "execution_count": 46,
   "metadata": {},
   "outputs": [],
   "source": [
    "model = get_model(X_train[0].shape)"
   ]
  },
  {
   "cell_type": "code",
   "execution_count": 47,
   "metadata": {},
   "outputs": [
    {
     "name": "stdout",
     "output_type": "stream",
     "text": [
      "Model: \"sequential_1\"\n",
      "_________________________________________________________________\n",
      "Layer (type)                 Output Shape              Param #   \n",
      "=================================================================\n",
      "flatten_1 (Flatten)          (None, 4900)              0         \n",
      "_________________________________________________________________\n",
      "hidden_layer_1 (Dense)       (None, 128)               627328    \n",
      "_________________________________________________________________\n",
      "hidden_layer_2 (Dense)       (None, 128)               16512     \n",
      "_________________________________________________________________\n",
      "hidden_relu_layer_1 (Dense)  (None, 128)               16512     \n",
      "_________________________________________________________________\n",
      "hidden_layer_3 (Dense)       (None, 64)                8256      \n",
      "_________________________________________________________________\n",
      "hidden_Relu_2 (Dense)        (None, 64)                4160      \n",
      "_________________________________________________________________\n",
      "output_layer (Dense)         (None, 10)                650       \n",
      "=================================================================\n",
      "Total params: 673,418\n",
      "Trainable params: 673,418\n",
      "Non-trainable params: 0\n",
      "_________________________________________________________________\n"
     ]
    }
   ],
   "source": [
    "model.summary()"
   ]
  },
  {
   "cell_type": "markdown",
   "metadata": {},
   "source": [
    "# compile model"
   ]
  },
  {
   "cell_type": "code",
   "execution_count": 48,
   "metadata": {},
   "outputs": [],
   "source": [
    "def compile_model(model):\n",
    "    model.compile(\n",
    "    optimizer =tf.keras.optimizers.SGD(learning_rate= 0.001,momentum =0.0,nesterov =False),\n",
    "        loss = \"sparse_categorical_crossentropy\",\n",
    "        metrics = [\"accuracy\"]\n",
    "        \n",
    "    \n",
    "    \n",
    "    \n",
    "    \n",
    "    )"
   ]
  },
  {
   "cell_type": "code",
   "execution_count": 49,
   "metadata": {},
   "outputs": [],
   "source": [
    "compile_model(model)"
   ]
  },
  {
   "cell_type": "markdown",
   "metadata": {},
   "source": [
    "# fit the model to the training data"
   ]
  },
  {
   "cell_type": "code",
   "execution_count": 58,
   "metadata": {},
   "outputs": [],
   "source": [
    "def train_model (model, scaled_train_img,train_labels):\n",
    "    history = model.fit(scaled_train_img,train_labels,epochs= 500,verbose = 0)\n",
    "    return history"
   ]
  },
  {
   "cell_type": "code",
   "execution_count": 59,
   "metadata": {
    "scrolled": true
   },
   "outputs": [],
   "source": [
    "history = train_model(model,X_train,Y_train)"
   ]
  },
  {
   "cell_type": "markdown",
   "metadata": {},
   "source": [
    "# plotting curvers"
   ]
  },
  {
   "cell_type": "code",
   "execution_count": 60,
   "metadata": {},
   "outputs": [],
   "source": [
    "frame =pd.DataFrame(history.history)\n",
    "\n",
    "\n",
    "\n",
    "\n"
   ]
  },
  {
   "cell_type": "code",
   "execution_count": 61,
   "metadata": {},
   "outputs": [
    {
     "data": {
      "text/plain": [
       "[Text(0.5, 0, 'epochs '), Text(0, 0.5, 'accuracy')]"
      ]
     },
     "execution_count": 61,
     "metadata": {},
     "output_type": "execute_result"
    },
    {
     "data": {
      "image/png": "[encoded data removed]",
      "text/plain": [
       "<Figure size 432x288 with 1 Axes>"
      ]
     },
     "metadata": {
      "needs_background": "light"
     },
     "output_type": "display_data"
    }
   ],
   "source": [
    "acc_plot = frame.plot(y=\"accuracy\" ,title = \"Accuracy vs epochs \", legend =False)\n",
    "acc_plot.set(xlabel = \"epochs \" , ylabel =\"accuracy\")"
   ]
  },
  {
   "cell_type": "code",
   "execution_count": 62,
   "metadata": {},
   "outputs": [
    {
     "data": {
      "text/plain": [
       "[Text(0.5, 0, 'Epochs'), Text(0, 0.5, 'Loss')]"
      ]
     },
     "execution_count": 62,
     "metadata": {},
     "output_type": "execute_result"
    },
    {
     "data": {
      "image/png": "[encoded data removed]",
      "text/plain": [
       "<Figure size 432x288 with 1 Axes>"
      ]
     },
     "metadata": {
      "needs_background": "light"
     },
     "output_type": "display_data"
    }
   ],
   "source": [
    "acc_plot = frame.plot(y=\"loss\", title = \"Loss vs Epochs\",legend=False)\n",
    "acc_plot.set(xlabel=\"Epochs\", ylabel=\"Loss\")"
   ]
  },
  {
   "cell_type": "markdown",
   "metadata": {},
   "source": [
    "# evaluate the model"
   ]
  },
  {
   "cell_type": "code",
   "execution_count": 63,
   "metadata": {},
   "outputs": [],
   "source": [
    "def evaluate_model(model,scaled_test_img , test_labels):\n",
    "    test_loss, test_accuracy  = model.evaluate (scaled_test_img ,test_labels)\n",
    "    return test_loss,test_accuracy"
   ]
  },
  {
   "cell_type": "code",
   "execution_count": 64,
   "metadata": {},
   "outputs": [
    {
     "name": "stdout",
     "output_type": "stream",
     "text": [
      "141/141 [==============================] - 0s 2ms/step - loss: 1.0335 - accuracy: 0.8493\n"
     ]
    }
   ],
   "source": [
    "test_loss,test_accuracy = evaluate_model(model,X_test ,Y_test)"
   ]
  },
  {
   "cell_type": "markdown",
   "metadata": {},
   "source": [
    "# model prediction"
   ]
  },
  {
   "cell_type": "code",
   "execution_count": null,
   "metadata": {},
   "outputs": [],
   "source": [
    "num_test_images = X_test.shape[0]\n",
    "\n",
    "random_inx = np.random.choice(num_test_images, 4)\n",
    "random_test_images = X_test[random_inx, ...]\n",
    "random_test_labels = Y_test[random_inx, ...]\n",
    "\n",
    "predictions = model.predict(random_test_images)\n",
    "\n",
    "fig, axes = plt.subplots(4, 2, figsize=(16, 12))\n",
    "fig.subplots_adjust(hspace=0.4, wspace=-0.2)\n",
    "\n",
    "for i, (prediction, image, label) in enumerate(zip(predictions, random_test_images, random_test_labels)):\n",
    "    axes[i, 0].imshow(np.squeeze(image))\n",
    "    axes[i, 0].get_xaxis().set_visible(False)\n",
    "    axes[i, 0].get_yaxis().set_visible(False)\n",
    "    axes[i, 0].text(10., -1.5, f'Digit {label}')\n",
    "    axes[i, 1].bar(np.arange(len(prediction)), prediction)\n",
    "    axes[i, 1].set_xticks(np.arange(len(prediction)))\n",
    "    axes[i, 1].set_title(f\"Categorical distribution. Model prediction: {np.argmax(prediction)}\")\n",
    "    \n",
    "plt.show()"
   ]
  },
  {
   "cell_type": "code",
   "execution_count": null,
   "metadata": {},
   "outputs": [],
   "source": []
  },
  {
   "cell_type": "code",
   "execution_count": null,
   "metadata": {},
   "outputs": [],
   "source": []
  },
  {
   "cell_type": "code",
   "execution_count": null,
   "metadata": {},
   "outputs": [],
   "source": []
  }
 ],
 "metadata": {
  "kernelspec": {
   "display_name": "Python 3",
   "language": "python",
   "name": "python3"
  },
  "language_info": {
   "codemirror_mode": {
    "name": "ipython",
    "version": 3
   },
   "file_extension": ".py",
   "mimetype": "text/x-python",
   "name": "python",
   "nbconvert_exporter": "python",
   "pygments_lexer": "ipython3",
   "version": "3.7.1"
  }
 },
 "nbformat": 4,
 "nbformat_minor": 4
}
