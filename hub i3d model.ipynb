{
 "cells": [
  {
   "cell_type": "code",
   "execution_count": 24,
   "id": "c92dc912",
   "metadata": {},
   "outputs": [
    {
     "name": "stdout",
     "output_type": "stream",
     "text": [
      "Collecting numpy\n",
      "  Using cached numpy-1.21.0-cp37-cp37m-win_amd64.whl (13.9 MB)\n",
      "Installing collected packages: numpy\n",
      "Successfully installed numpy-1.21.0\n",
      "Note: you may need to restart the kernel to use updated packages.\n"
     ]
    },
    {
     "name": "stderr",
     "output_type": "stream",
     "text": [
      "  WARNING: The script f2py.exe is installed in 'C:\\Users\\farsw\\AppData\\Roaming\\Python\\Python37\\Scripts' which is not on PATH.\n",
      "  Consider adding this directory to PATH or, if you prefer to suppress this warning, use --no-warn-script-location.\n",
      "ERROR: pip's dependency resolver does not currently take into account all the packages that are installed. This behaviour is the source of the following dependency conflicts.\n",
      "torch 1.7.0 requires dataclasses, which is not installed.\n",
      "-ensorflow-gpu 2.5.0 requires numpy~=1.19.2, but you have numpy 1.21.0 which is incompatible.\n",
      "tensorflow-gpu 2.5.0 requires numpy~=1.19.2, but you have numpy 1.21.0 which is incompatible.\n"
     ]
    }
   ],
   "source": [
    "pip install -U numpy --user"
   ]
  },
  {
   "cell_type": "code",
   "execution_count": 16,
   "id": "d828a831",
   "metadata": {},
   "outputs": [],
   "source": [
    "import numpy as np\n",
    "import pandas as pd\n",
    "import tensorflow as tf\n",
    "from tensorflow import keras\n",
    "import matplotlib.pyplot as plt\n",
    "import os\n",
    "import cv2\n",
    "import pickle\n",
    "import re\n",
    "import shutil\n",
    "import glob\n",
    "import gzip\n",
    "%matplotlib inline"
   ]
  },
  {
   "cell_type": "code",
   "execution_count": 17,
   "id": "e5aa5f75",
   "metadata": {},
   "outputs": [],
   "source": [
    "from tensorflow.keras.models import Model, Sequential\n",
    "from tensorflow.keras.layers import Dense, Activation, Dropout, Flatten, TimeDistributed, LSTM, Input, BatchNormalization, Conv2D, MaxPooling2D, Reshape, Conv1D, GlobalAveragePooling1D, MaxPooling1D, Lambda\n",
    "from tensorflow.keras.utils import to_categorical\n",
    "from tensorflow.keras.callbacks import ModelCheckpoint, ReduceLROnPlateau, EarlyStopping\n",
    "from tensorflow.keras.preprocessing.image import ImageDataGenerator"
   ]
  },
  {
   "cell_type": "code",
   "execution_count": 18,
   "id": "c96e40e0",
   "metadata": {},
   "outputs": [],
   "source": [
    "from keras.optimizers import Adam\n",
    "from keras.losses import sparse_categorical_crossentropy\n",
    "from keras.losses import categorical_crossentropy"
   ]
  },
  {
   "cell_type": "code",
   "execution_count": 19,
   "id": "fa632db1",
   "metadata": {},
   "outputs": [],
   "source": [
    "import tensorflow_hub as hub"
   ]
  },
  {
   "cell_type": "code",
   "execution_count": 20,
   "id": "e8a650c7",
   "metadata": {},
   "outputs": [],
   "source": [
    "import h5py"
   ]
  },
  {
   "cell_type": "code",
   "execution_count": 21,
   "id": "567d1b10",
   "metadata": {},
   "outputs": [
    {
     "data": {
      "text/plain": [
       "True"
      ]
     },
     "execution_count": 21,
     "metadata": {},
     "output_type": "execute_result"
    }
   ],
   "source": [
    "tf.test.is_built_with_cuda()"
   ]
  },
  {
   "cell_type": "code",
   "execution_count": 7,
   "id": "2c873ec2",
   "metadata": {},
   "outputs": [
    {
     "data": {
      "text/plain": [
       "[PhysicalDevice(name='/physical_device:CPU:0', device_type='CPU'),\n",
       " PhysicalDevice(name='/physical_device:GPU:0', device_type='GPU')]"
      ]
     },
     "execution_count": 7,
     "metadata": {},
     "output_type": "execute_result"
    }
   ],
   "source": [
    "tf.config.list_physical_devices()"
   ]
  },
  {
   "cell_type": "code",
   "execution_count": 8,
   "id": "734914d4",
   "metadata": {},
   "outputs": [
    {
     "data": {
      "text/plain": [
       "'/device:GPU:0'"
      ]
     },
     "execution_count": 8,
     "metadata": {},
     "output_type": "execute_result"
    }
   ],
   "source": [
    "tf.test.gpu_device_name()"
   ]
  },
  {
   "cell_type": "code",
   "execution_count": 9,
   "id": "78f074b9",
   "metadata": {},
   "outputs": [],
   "source": [
    "from PIL import Image"
   ]
  },
  {
   "cell_type": "code",
   "execution_count": 10,
   "id": "cfbb724b",
   "metadata": {},
   "outputs": [],
   "source": [
    "import gzip"
   ]
  },
  {
   "cell_type": "code",
   "execution_count": 11,
   "id": "e9061007",
   "metadata": {},
   "outputs": [],
   "source": [
    "from keras.preprocessing.sequence import pad_sequences"
   ]
  },
  {
   "cell_type": "code",
   "execution_count": 12,
   "id": "b64eb935",
   "metadata": {},
   "outputs": [],
   "source": [
    "# import spacy\n",
    "# from spacy.lang.de.examples import sentences "
   ]
  },
  {
   "cell_type": "markdown",
   "id": "d451f534",
   "metadata": {},
   "source": [
    "# creating folder path"
   ]
  },
  {
   "cell_type": "code",
   "execution_count": 10,
   "id": "52cad039",
   "metadata": {},
   "outputs": [],
   "source": [
    "train_data_path = \"D:\\\\imp docs\\\\sem4\\\\dn\\\\phoenix t\\\\PHOENIX-2014-T-release-v3\\\\PHOENIX-2014-T\\\\features\\\\fullFrame-210x260px\\\\train\"\n",
    "dev_data_path = \"D:\\\\imp docs\\\\sem4\\\\dn\\\\phoenix t\\\\PHOENIX-2014-T-release-v3\\\\PHOENIX-2014-T\\\\features\\\\fullFrame-210x260px\\\\dev\"\n",
    "test_data_path = \"D:\\\\imp docs\\\\sem4\\\\dn\\\\phoenix t\\\\PHOENIX-2014-T-release-v3\\\\PHOENIX-2014-T\\\\features\\\\fullFrame-210x260px\\\\test\""
   ]
  },
  {
   "cell_type": "code",
   "execution_count": 11,
   "id": "5589904e",
   "metadata": {},
   "outputs": [
    {
     "data": {
      "text/plain": [
       "'D:\\\\imp docs\\\\sem4\\\\dn\\\\phoenix t\\\\PHOENIX-2014-T-release-v3\\\\PHOENIX-2014-T\\\\program files'"
      ]
     },
     "execution_count": 11,
     "metadata": {},
     "output_type": "execute_result"
    }
   ],
   "source": [
    "os.getcwd()"
   ]
  },
  {
   "cell_type": "markdown",
   "id": "5f9d7c6c",
   "metadata": {},
   "source": [
    "# creating directory for all files in an image folder"
   ]
  },
  {
   "cell_type": "code",
   "execution_count": 12,
   "id": "6981a48b",
   "metadata": {},
   "outputs": [],
   "source": [
    "os.chdir(dev_data_path)"
   ]
  },
  {
   "cell_type": "code",
   "execution_count": 13,
   "id": "9f16a511",
   "metadata": {},
   "outputs": [],
   "source": [
    "directory_train = os.listdir()"
   ]
  },
  {
   "cell_type": "code",
   "execution_count": 14,
   "id": "48f1dda5",
   "metadata": {},
   "outputs": [
    {
     "data": {
      "text/plain": [
       "519"
      ]
     },
     "execution_count": 14,
     "metadata": {},
     "output_type": "execute_result"
    }
   ],
   "source": [
    "len(directory_train)"
   ]
  },
  {
   "cell_type": "code",
   "execution_count": 15,
   "id": "002d6fa8",
   "metadata": {},
   "outputs": [
    {
     "data": {
      "text/plain": [
       "'04May_2011_Wednesday_heute-3996'"
      ]
     },
     "execution_count": 15,
     "metadata": {},
     "output_type": "execute_result"
    }
   ],
   "source": [
    "directory_train[70]"
   ]
  },
  {
   "cell_type": "code",
   "execution_count": 16,
   "id": "23754086",
   "metadata": {},
   "outputs": [
    {
     "data": {
      "text/plain": [
       "'05February_2010_Friday_tagesschau-2919'"
      ]
     },
     "execution_count": 16,
     "metadata": {},
     "output_type": "execute_result"
    }
   ],
   "source": [
    "directory_train[76]"
   ]
  },
  {
   "cell_type": "markdown",
   "id": "f135b16a",
   "metadata": {},
   "source": [
    "# creating dataset with yield\n"
   ]
  },
  {
   "cell_type": "code",
   "execution_count": 20,
   "id": "7045998d",
   "metadata": {},
   "outputs": [],
   "source": [
    " #pip install --upgrade tensorflow-hub"
   ]
  },
  {
   "cell_type": "code",
   "execution_count": 17,
   "id": "9ad6a2e9",
   "metadata": {},
   "outputs": [],
   "source": [
    "import tensorflow_hub as hub\n",
    "#hub_handle = 'https://tfhub.dev/deepmind/mil-nce/s3d/1'\n",
    "hub_handle = \"https://tfhub.dev/deepmind/mil-nce/i3d/1\"\n",
    "hub_model = hub.load(hub_handle)\n",
    "\n",
    "def generate_embeddings(model, input_frames):\n",
    "  \"\"\"Generate embeddings from the model from video frames and input words.\"\"\"\n",
    "  # Input_frames must be normalized in [0, 1] and of the shape Batch x T x H x W x 3\n",
    "  vision_output = model.signatures['video'](tf.constant(tf.cast(input_frames, dtype=tf.float32)))\n",
    "  #text_output = model.signatures['text'](tf.constant(input_words))\n",
    "  return vision_output['video_embedding']"
   ]
  },
  {
   "cell_type": "code",
   "execution_count": 18,
   "id": "1734601f",
   "metadata": {},
   "outputs": [],
   "source": [
    "#hub_extractor = hub.load(hub_handle)"
   ]
  },
  {
   "cell_type": "code",
   "execution_count": 19,
   "id": "180b1d1f",
   "metadata": {},
   "outputs": [],
   "source": [
    "#hub_extractor.trainable = True"
   ]
  },
  {
   "cell_type": "code",
   "execution_count": 10,
   "id": "bcca8c88",
   "metadata": {},
   "outputs": [],
   "source": [
    "import torch\n",
    "import torch.nn as nn\n",
    "import torch.optim as optim\n",
    "import torch.nn.functional as f\n",
    "from torch.utils.data import DataLoader\n",
    "import torchvision.datasets as datasets\n",
    "import torchvision.transforms as trans"
   ]
  },
  {
   "cell_type": "code",
   "execution_count": 11,
   "id": "a672f7d7",
   "metadata": {},
   "outputs": [],
   "source": [
    "device = torch.device('cuda' if torch.cuda.is_available() else 'cpu')"
   ]
  },
  {
   "cell_type": "code",
   "execution_count": 12,
   "id": "b4dd3097",
   "metadata": {},
   "outputs": [
    {
     "data": {
      "text/plain": [
       "device(type='cuda')"
      ]
     },
     "execution_count": 12,
     "metadata": {},
     "output_type": "execute_result"
    }
   ],
   "source": [
    "device\n"
   ]
  },
  {
   "cell_type": "code",
   "execution_count": null,
   "id": "44012df8",
   "metadata": {},
   "outputs": [],
   "source": []
  },
  {
   "cell_type": "code",
   "execution_count": null,
   "id": "c6277c21",
   "metadata": {},
   "outputs": [],
   "source": []
  },
  {
   "cell_type": "code",
   "execution_count": null,
   "id": "6a23af9f",
   "metadata": {},
   "outputs": [],
   "source": []
  },
  {
   "cell_type": "code",
   "execution_count": null,
   "id": "9345e421",
   "metadata": {},
   "outputs": [],
   "source": []
  },
  {
   "cell_type": "code",
   "execution_count": null,
   "id": "c6debcce",
   "metadata": {},
   "outputs": [],
   "source": [
    "# batch_size = 8\n",
    "# #training_data=[]\n",
    "# total_frame=109\n",
    "# skip_frame=5\n",
    "\n",
    "\n",
    "# def gray_data(current_folder_no):\n",
    "#     folder_no=0\n",
    "#     fol = 0\n",
    "    \n",
    "#     #training_annot = np.array\n",
    "    \n",
    "    \n",
    "# #     for i in range(current_folder_no,current_folder_no+batch_size):\n",
    "# #         nlp = spacy.load(\"de_core_news_lg\")\n",
    "# #         doc = nlp(annotaion_data_values[i])\n",
    "    \n",
    "    \n",
    "    \n",
    "    \n",
    "    \n",
    "#     while (current_folder_no<8):\n",
    "#         training_data=np.empty([0,252,224,3],dtype=np.float32)\n",
    "#         #training_data=[]\n",
    "\n",
    "#         for j in range(current_folder_no,current_folder_no+batch_size):\n",
    "#             temp_path = train_data_path+\"\\\\\"+directory_train[j]\n",
    "#             os.chdir(temp_path)\n",
    "#             frame_count=0\n",
    "#             frame_incl = 0\n",
    "            \n",
    "#             print(j)\n",
    "\n",
    "#             for i in range(0,len(os.listdir()),5):\n",
    "\n",
    "#                 frame_incl=frame_incl+1\n",
    "#                 try:\n",
    "#                     ##########################################\n",
    "#                     #if we want gray scale images\n",
    "#                     #img_array=cv2.imread(os.listdir()[i],cv2.IMREAD_GRAYSCALE)\n",
    "#                     ##########################################\n",
    "#                     img_array = cv2.imread(os.listdir()[i])\n",
    "#                     img_temp = cv2.resize(img_array,(224,252))/255.\n",
    "#                     #print(img_temp.shape)\n",
    "#                     #norm_image = cv2.normalize(img_temp, None, alpha=0, beta=1, norm_type=cv2.NORM_MINMAX, dtype=cv2.CV_32F)\n",
    "#                    # img_temp =img_temp/255.\n",
    "#                     #img_temp = np.divide(img_temp,[255.])\n",
    "#     #                 if(frame_count==1):\n",
    "#     #                     print(img_array.shape)\n",
    "#     #                     print(img_array)\n",
    "#                     #print(\"img_array shape is\",np.shape(img_array))\n",
    "#                     #new_array=cv2.resize(img_array,(Img_size,Img_size))\n",
    "\n",
    "\n",
    "\n",
    "#                     #training_data.append(img_temp)\n",
    "                \n",
    "#                     training_data=np.append(training_data,[img_temp],axis = 0)\n",
    "#                     #print(\"training_data shape is\" ,np.shape(training_data))\n",
    "#                 except Exception:\n",
    "#                         print(\"error at first try\")\n",
    "#                 print(\"frame_included in real img\",frame_incl)\n",
    "#                 #print(\"frame_count in real img\",frame_count)\n",
    "#             while(frame_incl<total_frame):\n",
    "#                 frame_incl=frame_incl+1\n",
    "#                 try:\n",
    "#                      ##########################################\n",
    "#                     #if we want gray scale images\n",
    "#                     #img_array=cv2.imread(os.listdir()[-1],cv2.IMREAD_GRAYSCALE)\n",
    "#                     ##########################################\n",
    "#                     img_array=cv2.imread(os.listdir()[-1])\n",
    "#                     img_temp = cv2.resize(img_array,(224,252))/255.\n",
    "#                     #print(img_temp.shahpe)\n",
    "#                     #norm_image = cv2.normalize(img_temp, None, alpha=0, beta=1, norm_type=cv2.NORM_MINMAX, dtype=cv2.CV_32F)\n",
    "#                     #img_temp = img_temp/255.\n",
    "#                     #img_temp = np.divide(img_temp,[255.])\n",
    "#     #                 if(frame_count==1):\n",
    "#     #                     print(img_array.shape)\n",
    "#     #                     print(img_array)\n",
    "#                     #print(\"img_array shape is\",np.shape(img_array))\n",
    "#                     #new_array=cv2.resize(img_array,(Img_size,Img_size))\n",
    "#                     #training_data.append(img_temp)\n",
    "#                     training_data = np.append(training_data,[img_temp],axis=0)\n",
    "#                     #print(\"training_data shape is\" ,np.shape(training_data))\n",
    "#                 except Exception:\n",
    "#                         print(\"error\")\n",
    "#                 print(\"frames_incl in copies are \",frame_incl)\n",
    "#             print(\"folder no\",folder_no)\n",
    "#             folder_no=folder_no+1\n",
    "#             #fol+=1\n",
    "#         current_folder_no=current_folder_no+batch_size\n",
    "#        # print(current_folder_no)\n",
    "\n",
    "\n",
    "\n",
    "            \n",
    "#         print(training_data.shape)\n",
    "\n",
    "#         yield (current_folder_no,training_data)\n",
    "        \n",
    "    \n",
    "\n",
    "\n",
    "\n",
    "\n"
   ]
  },
  {
   "cell_type": "code",
   "execution_count": null,
   "id": "8c1d611e",
   "metadata": {},
   "outputs": [],
   "source": [
    "# current_folder_no =0\n",
    "# temp = gray_data(current_folder_no)\n",
    "# training_data =np.empty([0,872,224,224,3],dtype = np.float32)\n",
    "# for a,training_data_temp in temp:\n",
    "#     print(\"temp data shape\",training_data_temp.shape)\n",
    "#     training_data = np.append(training_data,[training_data_temp],axis=0)\n",
    "#     current_folder = a"
   ]
  },
  {
   "cell_type": "markdown",
   "id": "d39ca621",
   "metadata": {},
   "source": [
    " # temp model to reshape"
   ]
  },
  {
   "cell_type": "code",
   "execution_count": null,
   "id": "8ead1dd2",
   "metadata": {},
   "outputs": [],
   "source": [
    "# batch_size = 2\n",
    "# #training_data=[]\n",
    "# total_frame=128\n",
    "# skip_frame=5\n",
    "# folder_name = []\n",
    "\n",
    "\n",
    "# def gray_data(current_folder_no):\n",
    "#     folder_no=0\n",
    "#     fol_no = current_folder_no+folder_no\n",
    "    \n",
    "    \n",
    "#     #training_annot = np.array\n",
    "    \n",
    "    \n",
    "# #     for i in range(current_folder_no,current_folder_no+batch_size):\n",
    "# #         nlp = spacy.load(\"de_core_news_lg\")\n",
    "# #         doc = nlp(annotaion_data_values[i])\n",
    "    \n",
    "    \n",
    "    \n",
    "    \n",
    "    \n",
    "#     while (current_folder_no<=519):\n",
    "#         training_data=np.empty([0,252,224,3],dtype=np.float32)\n",
    "#         #training_data=[]\n",
    "#         #folder_name = np.empty([0])\n",
    "\n",
    "#         for j in range(current_folder_no,current_folder_no+batch_size):\n",
    "#             temp_path = dev_data_path+\"\\\\\"+directory_train[j]\n",
    "#             folder_name.append(directory_train[j])\n",
    "#             #folder_name = np.append(folder_name ,directory_train[j],axis=0)\n",
    "#             print('*******************************************')\n",
    "#             print(\"current folder is\",directory_train[j])\n",
    "#             print('*******************************************')\n",
    "#             os.chdir(temp_path)\n",
    "#             frame_count=0\n",
    "#             frame_incl = 0\n",
    "            \n",
    "#             print(j)\n",
    "\n",
    "#             for i in range(0,len(os.listdir()),5):\n",
    "\n",
    "#                 frame_incl=frame_incl+1\n",
    "#                 try:\n",
    "#                     ##########################################\n",
    "#                     #if we want gray scale images\n",
    "#                     #img_array=cv2.imread(os.listdir()[i],cv2.IMREAD_GRAYSCALE)\n",
    "#                     ##########################################\n",
    "#                     img_array = cv2.imread(os.listdir()[i])\n",
    "#                     img_temp = cv2.resize(img_array,(224,252))/255.\n",
    "#                     #print(img_temp.shape)\n",
    "#                     #norm_image = cv2.normalize(img_temp, None, alpha=0, beta=1, norm_type=cv2.NORM_MINMAX, dtype=cv2.CV_32F)\n",
    "#                    # img_temp =img_temp/255.\n",
    "#                     #img_temp = np.divide(img_temp,[255.])\n",
    "#     #                 if(frame_count==1):\n",
    "#     #                     print(img_array.shape)\n",
    "#     #                     print(img_array)\n",
    "#                     #print(\"img_array shape is\",np.shape(img_array))\n",
    "#                     #new_array=cv2.resize(img_array,(Img_size,Img_size))\n",
    "\n",
    "\n",
    "\n",
    "#                     #training_data.append(img_temp)\n",
    "                \n",
    "#                     training_data=np.append(training_data,[img_temp],axis = 0)\n",
    "#                     #print(\"training_data shape is\" ,np.shape(training_data))\n",
    "#                 except Exception:\n",
    "#                         print(\"error at first try\")\n",
    "#                 print(\"frame_included in real img\",frame_incl)\n",
    "#                 #print(\"frame_count in real img\",frame_count)\n",
    "#             while(frame_incl<total_frame):\n",
    "#                 frame_incl=frame_incl+1\n",
    "#                 try:\n",
    "#                      ##########################################\n",
    "#                     #if we want gray scale images\n",
    "#                     #img_array=cv2.imread(os.listdir()[-1],cv2.IMREAD_GRAYSCALE)\n",
    "#                     ##########################################\n",
    "#                     img_array=cv2.imread(os.listdir()[-1])\n",
    "#                     img_temp = cv2.resize(img_array,(224,252))/255.\n",
    "#                     #print(\"img_temp_shape\",img_temp.shape)\n",
    "#                     #norm_image = cv2.normalize(img_temp, None, alpha=0, beta=1, norm_type=cv2.NORM_MINMAX, dtype=cv2.CV_32F)\n",
    "#                     #img_temp = img_temp/255.\n",
    "#                     #img_temp = np.divide(img_temp,[255.])\n",
    "#     #                 if(frame_count==1):\n",
    "#     #                     print(img_array.shape)\n",
    "#     #                     print(img_array)\n",
    "#                     #print(\"img_array shape is\",np.shape(img_array))\n",
    "#                     #new_array=cv2.resize(img_array,(Img_size,Img_size))\n",
    "#                     #training_data.append(img_temp)\n",
    "#                     training_data = np.append(training_data,[img_temp],axis=0)\n",
    "#                     #print(\"training_data shape is\" ,np.shape(training_data))\n",
    "#                 except Exception:\n",
    "#                         print(\"error\")\n",
    "#                 print(\"frames_incl in copies are \",frame_incl)\n",
    "#             print(\"folder no today\",folder_no)\n",
    "#             print(\"folder no so far \",fol_no)\n",
    "#             folder_no=folder_no+1\n",
    "#             fol_no = fol_no+1\n",
    "#             #fol+=1\n",
    "#         current_folder_no=current_folder_no+batch_size\n",
    "#        # print(current_folder_no)\n",
    "\n",
    "\n",
    "\n",
    "            \n",
    "#         print(training_data.shape)\n",
    "\n",
    "#         yield (current_folder_no,training_data)\n",
    "        \n",
    "    \n",
    "\n",
    "\n",
    "\n",
    "\n"
   ]
  },
  {
   "cell_type": "code",
   "execution_count": null,
   "id": "72b2fb5f",
   "metadata": {},
   "outputs": [],
   "source": [
    "# current_folder_no =518\n",
    "# temp = gray_data(current_folder_no)\n",
    "# training_data =np.empty([0,256,252,224,3],dtype = np.float32)\n",
    "# vid_embdng = np.empty([0,512])\n",
    "# #folder_name = np.empty([0])\n",
    "# for a,training_data_temp,in temp:\n",
    "#     print(\"sahep hello\",training_data_temp.shape)\n",
    "#     training_temp = training_data_temp.reshape(2,128,252,224,3)\n",
    "#     plt.imshow(training_temp[0,0])\n",
    "#     vid_embdd= generate_embeddings(hub_model,training_temp)\n",
    "#     vid_embdng = np.append(vid_embdng,vid_embdd,axis=0)\n",
    "    \n",
    "#     print(\"embdd shape\",vid_embdd.shape)\n",
    "#     #print(vid_embdd)\n",
    "#     print(\"current folder not is\",a)\n",
    "    \n",
    "#     # changing directory\n",
    "#     file_directory =\"D:\\\\imp docs\\\\sem4\\\\dn\\\\phoenix t\\\\PHOENIX-2014-T-release-v3\\\\PHOENIX-2014-T\\\\program files\"\n",
    "#     os.chdir(file_directory)\n",
    "#     path_emb = os.getcwd()\n",
    "    \n",
    "#     if(os.path.exists(path_emb+\"\\\\emb_comp_i3d_dev.h5\")):\n",
    "    \n",
    "#         with h5py.File('emb_comp_i3d_dev.h5','a') as hf:\n",
    "#             hf['x_1'].resize((hf['x_1'].shape[0]+vid_embdd.shape[0]),axis = 0)\n",
    "#             hf['x_1'][-vid_embdd.shape[0]:] = vid_embdd\n",
    "#     else:\n",
    "#         with h5py.File('emb_comp_i3d_dev.h5','w') as hf:\n",
    "#             hf.create_dataset('x_1',data=vid_embdng,maxshape=(None,None),chunks=(1,512))\n",
    "            \n",
    "            \n",
    "            \n",
    "# #     if(os.path.exists(path_emb+\"\\\\folder_name.h5\")):\n",
    "    \n",
    "# #         with h5py.File('folder_name.h5','a') as hf:\n",
    "# #             hf['x_2'].resize((hf['x_2'].shape[0]+folder_name.shape[0]),axis = 0)\n",
    "# #             hf['x_2'][-folder_name.shape[0]:] = folder_name\n",
    "# #     else:\n",
    "# #         with h5py.File('folder_name.h5','w') as hf:\n",
    "# #             hf.create_dataset('x_2',data=folder_name)\n",
    "#     with h5py.File('emb_comp_i3d_dev.h5','r')as ab:\n",
    "#     #ind = ab.keys()\n",
    "#     #print(ind)\n",
    "#         data_emb=ab['x_1'][()]\n",
    "#     print(\"embedding shape is \",data_emb.shape)\n",
    "        \n",
    "    \n",
    "# print(\"shape of emb\",vid_embdng.shape)\n",
    "    "
   ]
  },
  {
   "cell_type": "code",
   "execution_count": null,
   "id": "b76c9165",
   "metadata": {},
   "outputs": [],
   "source": [
    "os.getcwd()"
   ]
  },
  {
   "cell_type": "markdown",
   "id": "384278fb",
   "metadata": {},
   "source": [
    "# appending with 0 instead with last frame"
   ]
  },
  {
   "cell_type": "code",
   "execution_count": 21,
   "id": "70ddaa05",
   "metadata": {},
   "outputs": [],
   "source": [
    "batch_size = 1\n",
    "#training_data=[]\n",
    "total_frame=128\n",
    "skip_frame=5\n",
    "folder_name = []\n",
    "\n",
    "\n",
    "def gray_data(current_folder_no):\n",
    "    folder_no=0\n",
    "    fol_no = current_folder_no+folder_no\n",
    "    \n",
    "    \n",
    "    #training_annot = np.array\n",
    "    \n",
    "    \n",
    "#     for i in range(current_folder_no,current_folder_no+batch_size):\n",
    "#         nlp = spacy.load(\"de_core_news_lg\")\n",
    "#         doc = nlp(annotaion_data_values[i])\n",
    "    \n",
    "    \n",
    "    \n",
    "    \n",
    "    \n",
    "    while (current_folder_no<=519):\n",
    "        training_data=np.empty([0,252,224,3],dtype=np.float32)\n",
    "        #training_data=[]\n",
    "        #folder_name = np.empty([0])\n",
    "\n",
    "        for j in range(current_folder_no,current_folder_no+batch_size):\n",
    "            temp_path = dev_data_path+\"\\\\\"+directory_train[j]\n",
    "            folder_name.append(directory_train[j])\n",
    "            #folder_name = np.append(folder_name ,directory_train[j],axis=0)\n",
    "            print('*******************************************')\n",
    "            print(\"current folder is\",directory_train[j])\n",
    "            print('*******************************************')\n",
    "            os.chdir(temp_path)\n",
    "            frame_count=0\n",
    "            frame_incl = 0\n",
    "            \n",
    "            print(j)\n",
    "\n",
    "            for i in range(0,len(os.listdir()),5):\n",
    "\n",
    "                frame_incl=frame_incl+1\n",
    "                try:\n",
    "                    ##########################################\n",
    "                    #if we want gray scale images\n",
    "                    #img_array=cv2.imread(os.listdir()[i],cv2.IMREAD_GRAYSCALE)\n",
    "                    ##########################################\n",
    "                    img_array = cv2.imread(os.listdir()[i])\n",
    "                    img_temp = cv2.resize(img_array,(224,252))/255.\n",
    "                    \n",
    "                    #print(img_temp.shape)\n",
    "                    #norm_image = cv2.normalize(img_temp, None, alpha=0, beta=1, norm_type=cv2.NORM_MINMAX, dtype=cv2.CV_32F)\n",
    "                   # img_temp =img_temp/255.\n",
    "                    #img_temp = np.divide(img_temp,[255.])\n",
    "    #                 if(frame_count==1):\n",
    "    #                     print(img_array.shape)\n",
    "    #                     print(img_array)\n",
    "                    #print(\"img_array shape is\",np.shape(img_array))\n",
    "                    #new_array=cv2.resize(img_array,(Img_size,Img_size))\n",
    "\n",
    "\n",
    "\n",
    "                    #training_data.append(img_temp)\n",
    "                \n",
    "                    training_data=np.append(training_data,[img_temp],axis = 0)\n",
    "                    #print(\"training_data shape is\" ,np.shape(training_data))\n",
    "                except Exception:\n",
    "                        print(\"error at first try\")\n",
    "                print(\"frame_included in real img\",frame_incl)\n",
    "                #print(\"frame_count in real img\",frame_count)\n",
    "            while(frame_incl<total_frame):\n",
    "                frame_incl=frame_incl+1\n",
    "                try:\n",
    "                     ##########################################\n",
    "                    #if we want gray scale images\n",
    "                    #img_array=cv2.imread(os.listdir()[-1],cv2.IMREAD_GRAYSCALE)\n",
    "                    ##########################################\n",
    "                    #img_array=cv2.imread(os.listdir()[-1])\n",
    "                    #img_temp = cv2.resize(img_array,(224,252))/255.\n",
    "                    img_temp = np.zeros((252,224,3))\n",
    "                    #print(\"img_temp_shape\",img_temp.shape)\n",
    "                    #norm_image = cv2.normalize(img_temp, None, alpha=0, beta=1, norm_type=cv2.NORM_MINMAX, dtype=cv2.CV_32F)\n",
    "                    #img_temp = img_temp/255.\n",
    "                    #img_temp = np.divide(img_temp,[255.])\n",
    "    #                 if(frame_count==1):\n",
    "    #                     print(img_array.shape)\n",
    "    #                     print(img_array)\n",
    "                    #print(\"img_array shape is\",np.shape(img_array))\n",
    "                    #new_array=cv2.resize(img_array,(Img_size,Img_size))\n",
    "                    #training_data.append(img_temp)\n",
    "                    training_data = np.append(training_data,[img_temp],axis=0)\n",
    "                    #print(\"training_data shape is\" ,np.shape(training_data))\n",
    "                except Exception:\n",
    "                        print(\"error\")\n",
    "                print(\"frames_incl in copies are \",frame_incl)\n",
    "            print(\"folder no today\",folder_no)\n",
    "            print(\"folder no so far \",fol_no)\n",
    "            folder_no=folder_no+1\n",
    "            fol_no = fol_no+1\n",
    "            #fol+=1\n",
    "        current_folder_no=current_folder_no+batch_size\n",
    "       # print(current_folder_no)\n",
    "\n",
    "\n",
    "\n",
    "            \n",
    "        print(training_data.shape)\n",
    "\n",
    "        yield (current_folder_no,training_data)\n",
    "        \n",
    "    \n",
    "\n",
    "\n",
    "\n",
    "\n"
   ]
  },
  {
   "cell_type": "code",
   "execution_count": 22,
   "id": "4533960e",
   "metadata": {},
   "outputs": [
    {
     "name": "stdout",
     "output_type": "stream",
     "text": [
      "*******************************************\n",
      "current folder is 31October_2009_Saturday_tagesschau-7147_dev\n",
      "*******************************************\n",
      "518\n",
      "frame_included in real img 1\n",
      "frame_included in real img 2\n",
      "frame_included in real img 3\n",
      "frame_included in real img 4\n",
      "frame_included in real img 5\n",
      "frame_included in real img 6\n",
      "frame_included in real img 7\n",
      "frame_included in real img 8\n",
      "frame_included in real img 9\n",
      "frame_included in real img 10\n",
      "frame_included in real img 11\n",
      "frame_included in real img 12\n",
      "frame_included in real img 13\n",
      "frame_included in real img 14\n",
      "frame_included in real img 15\n",
      "frame_included in real img 16\n",
      "frame_included in real img 17\n",
      "frame_included in real img 18\n",
      "frame_included in real img 19\n",
      "frame_included in real img 20\n",
      "frame_included in real img 21\n",
      "frame_included in real img 22\n",
      "frame_included in real img 23\n",
      "frame_included in real img 24\n",
      "frame_included in real img 25\n",
      "frame_included in real img 26\n",
      "frame_included in real img 27\n",
      "frame_included in real img 28\n",
      "frames_incl in copies are  29\n",
      "frames_incl in copies are  30\n",
      "frames_incl in copies are  31\n",
      "frames_incl in copies are  32\n",
      "frames_incl in copies are  33\n",
      "frames_incl in copies are  34\n",
      "frames_incl in copies are  35\n",
      "frames_incl in copies are  36\n",
      "frames_incl in copies are  37\n",
      "frames_incl in copies are  38\n",
      "frames_incl in copies are  39\n",
      "frames_incl in copies are  40\n",
      "frames_incl in copies are  41\n",
      "frames_incl in copies are  42\n",
      "frames_incl in copies are  43\n",
      "frames_incl in copies are  44\n",
      "frames_incl in copies are  45\n",
      "frames_incl in copies are  46\n",
      "frames_incl in copies are  47\n",
      "frames_incl in copies are  48\n",
      "frames_incl in copies are  49\n",
      "frames_incl in copies are  50\n",
      "frames_incl in copies are  51\n",
      "frames_incl in copies are  52\n",
      "frames_incl in copies are  53\n",
      "frames_incl in copies are  54\n",
      "frames_incl in copies are  55\n",
      "frames_incl in copies are  56\n",
      "frames_incl in copies are  57\n",
      "frames_incl in copies are  58\n",
      "frames_incl in copies are  59\n",
      "frames_incl in copies are  60\n",
      "frames_incl in copies are  61\n",
      "frames_incl in copies are  62\n",
      "frames_incl in copies are  63\n",
      "frames_incl in copies are  64\n",
      "frames_incl in copies are  65\n",
      "frames_incl in copies are  66\n",
      "frames_incl in copies are  67\n",
      "frames_incl in copies are  68\n",
      "frames_incl in copies are  69\n",
      "frames_incl in copies are  70\n",
      "frames_incl in copies are  71\n",
      "frames_incl in copies are  72\n",
      "frames_incl in copies are  73\n",
      "frames_incl in copies are  74\n",
      "frames_incl in copies are  75\n",
      "frames_incl in copies are  76\n",
      "frames_incl in copies are  77\n",
      "frames_incl in copies are  78\n",
      "frames_incl in copies are  79\n",
      "frames_incl in copies are  80\n",
      "frames_incl in copies are  81\n",
      "frames_incl in copies are  82\n",
      "frames_incl in copies are  83\n",
      "frames_incl in copies are  84\n",
      "frames_incl in copies are  85\n",
      "frames_incl in copies are  86\n",
      "frames_incl in copies are  87\n",
      "frames_incl in copies are  88\n",
      "frames_incl in copies are  89\n",
      "frames_incl in copies are  90\n",
      "frames_incl in copies are  91\n",
      "frames_incl in copies are  92\n",
      "frames_incl in copies are  93\n",
      "frames_incl in copies are  94\n",
      "frames_incl in copies are  95\n",
      "frames_incl in copies are  96\n",
      "frames_incl in copies are  97\n",
      "frames_incl in copies are  98\n",
      "frames_incl in copies are  99\n",
      "frames_incl in copies are  100\n",
      "frames_incl in copies are  101\n",
      "frames_incl in copies are  102\n",
      "frames_incl in copies are  103\n",
      "frames_incl in copies are  104\n",
      "frames_incl in copies are  105\n",
      "frames_incl in copies are  106\n",
      "frames_incl in copies are  107\n",
      "frames_incl in copies are  108\n",
      "frames_incl in copies are  109\n",
      "frames_incl in copies are  110\n",
      "frames_incl in copies are  111\n",
      "frames_incl in copies are  112\n",
      "frames_incl in copies are  113\n",
      "frames_incl in copies are  114\n",
      "frames_incl in copies are  115\n",
      "frames_incl in copies are  116\n",
      "frames_incl in copies are  117\n",
      "frames_incl in copies are  118\n",
      "frames_incl in copies are  119\n",
      "frames_incl in copies are  120\n",
      "frames_incl in copies are  121\n",
      "frames_incl in copies are  122\n",
      "frames_incl in copies are  123\n",
      "frames_incl in copies are  124\n",
      "frames_incl in copies are  125\n",
      "frames_incl in copies are  126\n",
      "frames_incl in copies are  127\n",
      "frames_incl in copies are  128\n",
      "folder no today 0\n",
      "folder no so far  518\n",
      "(128, 252, 224, 3)\n",
      "sahep hello (128, 252, 224, 3)\n",
      "embdd shape (1, 512)\n",
      "current folder not is 519\n"
     ]
    },
    {
     "ename": "IndexError",
     "evalue": "list index out of range",
     "output_type": "error",
     "traceback": [
      "\u001b[1;31m---------------------------------------------------------------------------\u001b[0m",
      "\u001b[1;31mIndexError\u001b[0m                                Traceback (most recent call last)",
      "\u001b[1;32m<ipython-input-22-c8a13e35df60>\u001b[0m in \u001b[0;36m<module>\u001b[1;34m\u001b[0m\n\u001b[0;32m      5\u001b[0m     \u001b[0mvid_embdng\u001b[0m \u001b[1;33m=\u001b[0m \u001b[0mnp\u001b[0m\u001b[1;33m.\u001b[0m\u001b[0mempty\u001b[0m\u001b[1;33m(\u001b[0m\u001b[1;33m[\u001b[0m\u001b[1;36m0\u001b[0m\u001b[1;33m,\u001b[0m\u001b[1;36m512\u001b[0m\u001b[1;33m]\u001b[0m\u001b[1;33m)\u001b[0m\u001b[1;33m\u001b[0m\u001b[1;33m\u001b[0m\u001b[0m\n\u001b[0;32m      6\u001b[0m     \u001b[1;31m#folder_name = np.empty([0])\u001b[0m\u001b[1;33m\u001b[0m\u001b[1;33m\u001b[0m\u001b[1;33m\u001b[0m\u001b[0m\n\u001b[1;32m----> 7\u001b[1;33m     \u001b[1;32mfor\u001b[0m \u001b[0ma\u001b[0m\u001b[1;33m,\u001b[0m\u001b[0mtraining_data_temp\u001b[0m\u001b[1;33m,\u001b[0m\u001b[1;32min\u001b[0m \u001b[0mtemp\u001b[0m\u001b[1;33m:\u001b[0m\u001b[1;33m\u001b[0m\u001b[1;33m\u001b[0m\u001b[0m\n\u001b[0m\u001b[0;32m      8\u001b[0m         \u001b[0mprint\u001b[0m\u001b[1;33m(\u001b[0m\u001b[1;34m\"sahep hello\"\u001b[0m\u001b[1;33m,\u001b[0m\u001b[0mtraining_data_temp\u001b[0m\u001b[1;33m.\u001b[0m\u001b[0mshape\u001b[0m\u001b[1;33m)\u001b[0m\u001b[1;33m\u001b[0m\u001b[1;33m\u001b[0m\u001b[0m\n\u001b[0;32m      9\u001b[0m         \u001b[0mtraining_temp\u001b[0m \u001b[1;33m=\u001b[0m \u001b[0mtraining_data_temp\u001b[0m\u001b[1;33m.\u001b[0m\u001b[0mreshape\u001b[0m\u001b[1;33m(\u001b[0m\u001b[1;36m1\u001b[0m\u001b[1;33m,\u001b[0m\u001b[1;36m128\u001b[0m\u001b[1;33m,\u001b[0m\u001b[1;36m252\u001b[0m\u001b[1;33m,\u001b[0m\u001b[1;36m224\u001b[0m\u001b[1;33m,\u001b[0m\u001b[1;36m3\u001b[0m\u001b[1;33m)\u001b[0m\u001b[1;33m\u001b[0m\u001b[1;33m\u001b[0m\u001b[0m\n",
      "\u001b[1;32m<ipython-input-21-0eb013088059>\u001b[0m in \u001b[0;36mgray_data\u001b[1;34m(current_folder_no)\u001b[0m\n\u001b[0;32m     28\u001b[0m \u001b[1;33m\u001b[0m\u001b[0m\n\u001b[0;32m     29\u001b[0m         \u001b[1;32mfor\u001b[0m \u001b[0mj\u001b[0m \u001b[1;32min\u001b[0m \u001b[0mrange\u001b[0m\u001b[1;33m(\u001b[0m\u001b[0mcurrent_folder_no\u001b[0m\u001b[1;33m,\u001b[0m\u001b[0mcurrent_folder_no\u001b[0m\u001b[1;33m+\u001b[0m\u001b[0mbatch_size\u001b[0m\u001b[1;33m)\u001b[0m\u001b[1;33m:\u001b[0m\u001b[1;33m\u001b[0m\u001b[1;33m\u001b[0m\u001b[0m\n\u001b[1;32m---> 30\u001b[1;33m             \u001b[0mtemp_path\u001b[0m \u001b[1;33m=\u001b[0m \u001b[0mdev_data_path\u001b[0m\u001b[1;33m+\u001b[0m\u001b[1;34m\"\\\\\"\u001b[0m\u001b[1;33m+\u001b[0m\u001b[0mdirectory_train\u001b[0m\u001b[1;33m[\u001b[0m\u001b[0mj\u001b[0m\u001b[1;33m]\u001b[0m\u001b[1;33m\u001b[0m\u001b[1;33m\u001b[0m\u001b[0m\n\u001b[0m\u001b[0;32m     31\u001b[0m             \u001b[0mfolder_name\u001b[0m\u001b[1;33m.\u001b[0m\u001b[0mappend\u001b[0m\u001b[1;33m(\u001b[0m\u001b[0mdirectory_train\u001b[0m\u001b[1;33m[\u001b[0m\u001b[0mj\u001b[0m\u001b[1;33m]\u001b[0m\u001b[1;33m)\u001b[0m\u001b[1;33m\u001b[0m\u001b[1;33m\u001b[0m\u001b[0m\n\u001b[0;32m     32\u001b[0m             \u001b[1;31m#folder_name = np.append(folder_name ,directory_train[j],axis=0)\u001b[0m\u001b[1;33m\u001b[0m\u001b[1;33m\u001b[0m\u001b[1;33m\u001b[0m\u001b[0m\n",
      "\u001b[1;31mIndexError\u001b[0m: list index out of range"
     ]
    },
    {
     "data": {
      "image/png": "[encoded data removed]",
      "text/plain": [
       "<Figure size 432x288 with 1 Axes>"
      ]
     },
     "metadata": {
      "needs_background": "light"
     },
     "output_type": "display_data"
    }
   ],
   "source": [
    "with tf.device('/gpu:0'):\n",
    "    current_folder_no =518\n",
    "    temp = gray_data(current_folder_no)\n",
    "    #training_data =np.empty([0,256,252,224,3],dtype = np.float32)\n",
    "    vid_embdng = np.empty([0,512])\n",
    "    #folder_name = np.empty([0])\n",
    "    for a,training_data_temp,in temp:\n",
    "        print(\"sahep hello\",training_data_temp.shape)\n",
    "        training_temp = training_data_temp.reshape(1,128,252,224,3)\n",
    "        plt.imshow(training_temp[0,0])\n",
    "        vid_embdd= generate_embeddings(hub_model,training_temp)\n",
    "        vid_embdng = np.append(vid_embdng,vid_embdd,axis=0)\n",
    "\n",
    "        print(\"embdd shape\",vid_embdd.shape)\n",
    "        #print(vid_embdd)\n",
    "        print(\"current folder not is\",a)\n",
    "\n",
    "        # changing directory\n",
    "        file_directory =\"D:\\\\imp docs\\\\sem4\\\\dn\\\\phoenix t\\\\PHOENIX-2014-T-release-v3\\\\PHOENIX-2014-T\\\\program files\"\n",
    "        os.chdir(file_directory)\n",
    "        path_emb = os.getcwd()\n",
    "\n",
    "        if(os.path.exists(path_emb+\"\\\\emb_comp_i3d_dev_zero.h5\")):\n",
    "\n",
    "            with h5py.File('emb_comp_i3d_dev_zero.h5','a') as hf:\n",
    "                hf['x_1'].resize((hf['x_1'].shape[0]+vid_embdd.shape[0]),axis = 0)\n",
    "                hf['x_1'][-vid_embdd.shape[0]:] = vid_embdd\n",
    "        else:\n",
    "            with h5py.File('emb_comp_i3d_dev_zero.h5','w') as hf:\n",
    "                hf.create_dataset('x_1',data=vid_embdng,maxshape=(None,None),chunks=(1,512))\n",
    "\n",
    "\n",
    "\n",
    "    #     if(os.path.exists(path_emb+\"\\\\folder_name.h5\")):\n",
    "\n",
    "    #         with h5py.File('folder_name.h5','a') as hf:\n",
    "    #             hf['x_2'].resize((hf['x_2'].shape[0]+folder_name.shape[0]),axis = 0)\n",
    "    #             hf['x_2'][-folder_name.shape[0]:] = folder_name\n",
    "    #     else:\n",
    "    #         with h5py.File('folder_name.h5','w') as hf:\n",
    "    #             hf.create_dataset('x_2',data=folder_name)\n",
    "#         with h5py.File('emb_comp_i3d_train_zero.h5','r')as ab:\n",
    "#         #ind = ab.keys()\n",
    "#         #print(ind)\n",
    "#             data_emb=ab['x_1'][()]\n",
    "#         print(\"embedding shape is \",data_emb.shape)\n",
    "\n",
    "\n",
    "    #print(\"shape of emb\",vid_embdng.shape)\n"
   ]
  },
  {
   "cell_type": "code",
   "execution_count": 21,
   "id": "2bfb7f73",
   "metadata": {},
   "outputs": [],
   "source": [
    "current_folder = 6716"
   ]
  },
  {
   "cell_type": "code",
   "execution_count": 29,
   "id": "33fb99a5",
   "metadata": {},
   "outputs": [],
   "source": [
    "folder_showing = 6722"
   ]
  },
  {
   "cell_type": "code",
   "execution_count": null,
   "id": "398d43fe",
   "metadata": {},
   "outputs": [],
   "source": [
    "print(folder_name)"
   ]
  },
  {
   "cell_type": "code",
   "execution_count": null,
   "id": "0272911b",
   "metadata": {},
   "outputs": [],
   "source": [
    "# file_directory =\"D:\\\\imp docs\\\\sem4\\\\dn\\\\phoenix t\\\\PHOENIX-2014-T-release-v3\\\\PHOENIX-2014-T\\\\program files\"\n",
    "# os.chdir(file_directory)\n",
    "# folder_name_temp = folder_name\n",
    "# with h5py.File('folder_name_temp.h5','w')as ab:\n",
    "#     #ind = ab.keys()\n",
    "#     #print(ind)\n",
    "#     ab.create_dataset('x_2',data=folder_name)"
   ]
  },
  {
   "cell_type": "code",
   "execution_count": null,
   "id": "c988df23",
   "metadata": {},
   "outputs": [],
   "source": [
    "\n",
    "# with h5py.File('folder_name_temp.h5','r')as ab:\n",
    "#     #ind = ab.keys()\n",
    "#     #print(ind)\n",
    "#     folder_name_rama=ab['x_2'][()]"
   ]
  },
  {
   "cell_type": "code",
   "execution_count": null,
   "id": "7286c4de",
   "metadata": {},
   "outputs": [],
   "source": [
    "folder_name_rama"
   ]
  },
  {
   "cell_type": "code",
   "execution_count": null,
   "id": "40e56ac7",
   "metadata": {},
   "outputs": [],
   "source": [
    "emb_new_i3d=5001"
   ]
  },
  {
   "cell_type": "code",
   "execution_count": null,
   "id": "b598f62b",
   "metadata": {},
   "outputs": [],
   "source": [
    "emb_com = 4109"
   ]
  },
  {
   "cell_type": "markdown",
   "id": "fa2a0b58",
   "metadata": {},
   "source": [
    "# writing h5 file for embedding"
   ]
  },
  {
   "cell_type": "code",
   "execution_count": 22,
   "id": "6770c16e",
   "metadata": {},
   "outputs": [],
   "source": [
    "import h5py"
   ]
  },
  {
   "cell_type": "code",
   "execution_count": null,
   "id": "f52375ab",
   "metadata": {},
   "outputs": [],
   "source": [
    "file_directory =\"D:\\\\imp docs\\\\sem4\\\\dn\\\\phoenix t\\\\PHOENIX-2014-T-release-v3\\\\PHOENIX-2014-T\\\\program files\""
   ]
  },
  {
   "cell_type": "code",
   "execution_count": null,
   "id": "91633c93",
   "metadata": {},
   "outputs": [],
   "source": [
    "os.chdir(file_directory)"
   ]
  },
  {
   "cell_type": "code",
   "execution_count": null,
   "id": "9773dfcc",
   "metadata": {},
   "outputs": [],
   "source": [
    "# image matrix of training_data\n"
   ]
  },
  {
   "cell_type": "code",
   "execution_count": null,
   "id": "0966385d",
   "metadata": {},
   "outputs": [],
   "source": [
    "# with h5py.File('emb.h5','w') as hf:\n",
    "#     hf.create_dataset('x_1',data=vid_embdng,maxshape=(None,None),chunks=(1,512))"
   ]
  },
  {
   "cell_type": "markdown",
   "id": "b91476af",
   "metadata": {},
   "source": [
    "# reading file"
   ]
  },
  {
   "cell_type": "code",
   "execution_count": null,
   "id": "402e6605",
   "metadata": {},
   "outputs": [],
   "source": [
    "# reading folder name \n"
   ]
  },
  {
   "cell_type": "code",
   "execution_count": null,
   "id": "50a84b6f",
   "metadata": {},
   "outputs": [],
   "source": []
  },
  {
   "cell_type": "code",
   "execution_count": null,
   "id": "cff79716",
   "metadata": {},
   "outputs": [],
   "source": []
  },
  {
   "cell_type": "code",
   "execution_count": null,
   "id": "a6b56977",
   "metadata": {},
   "outputs": [],
   "source": []
  },
  {
   "cell_type": "code",
   "execution_count": null,
   "id": "917ed858",
   "metadata": {},
   "outputs": [],
   "source": []
  },
  {
   "cell_type": "code",
   "execution_count": 23,
   "id": "0979d6f3",
   "metadata": {},
   "outputs": [],
   "source": [
    "\n",
    "with h5py.File('emb_comp_i3d_dev_zero.h5','r')as ab:\n",
    "    #ind = ab.keys()\n",
    "    #print(ind)\n",
    "    data_emb=ab['x_1'][()]"
   ]
  },
  {
   "cell_type": "code",
   "execution_count": 24,
   "id": "e7bd57f9",
   "metadata": {},
   "outputs": [
    {
     "data": {
      "text/plain": [
       "(519, 512)"
      ]
     },
     "execution_count": 24,
     "metadata": {},
     "output_type": "execute_result"
    }
   ],
   "source": [
    "data_emb.shape"
   ]
  },
  {
   "cell_type": "code",
   "execution_count": null,
   "id": "e6c64912",
   "metadata": {},
   "outputs": [],
   "source": [
    "data_emb[0]"
   ]
  },
  {
   "cell_type": "code",
   "execution_count": null,
   "id": "c67ffbfa",
   "metadata": {},
   "outputs": [],
   "source": [
    "type(data_emb[0])\n"
   ]
  },
  {
   "cell_type": "code",
   "execution_count": 40,
   "id": "11443c32",
   "metadata": {},
   "outputs": [],
   "source": [
    "for i in range(7096):\n",
    "    for j in range(i+1,7096):\n",
    "        #print(np.array_equal(data_emb[i],data_emb[j]))\n",
    "        if(np.array_equal(data_emb[i],data_emb[j])==True):\n",
    "            print(i)\n",
    "            print(j)\n",
    "            print(\"True\")\n",
    "        \n",
    "    #print(False)"
   ]
  },
  {
   "cell_type": "code",
   "execution_count": 31,
   "id": "8b0ad3cb",
   "metadata": {},
   "outputs": [
    {
     "data": {
      "text/plain": [
       "array([ 9.40702669e-03, -3.95510942e-02, -3.18033155e-03, -3.03774886e-03,\n",
       "       -7.97425769e-03,  2.61989981e-03,  1.77527387e-02, -2.86171120e-02,\n",
       "       -1.02123842e-02, -8.54864996e-03, -1.12974243e-02, -2.52160151e-02,\n",
       "        9.85692441e-03,  3.34465411e-04,  1.09517435e-02, -6.49927482e-02,\n",
       "       -3.39455903e-03, -1.07792169e-02, -2.64213327e-03, -6.79793432e-02,\n",
       "        2.06846893e-02,  5.16372267e-03, -2.18553515e-03,  2.10058708e-02,\n",
       "        1.23366984e-02, -2.10401583e-02, -1.27018243e-02,  1.62948165e-02,\n",
       "        2.45746896e-02, -3.82349407e-03, -6.60401396e-03,  4.60922718e-02,\n",
       "        2.19598692e-02,  1.62644349e-02,  2.03977749e-02,  7.32390862e-03,\n",
       "        1.51539305e-02,  5.52137271e-02, -1.53410193e-02, -5.21156378e-02,\n",
       "       -8.04456975e-03,  3.86897065e-02, -2.89634010e-03, -2.00816803e-02,\n",
       "       -1.39601799e-02, -2.98580248e-03, -2.10180096e-02,  2.19814479e-04,\n",
       "       -3.02690901e-02, -1.39943473e-02, -8.46559182e-04,  1.42946392e-02,\n",
       "        1.35827735e-02,  1.35413231e-02, -3.41629749e-03,  1.86843053e-02,\n",
       "       -3.27834487e-02, -1.65262744e-02, -3.15321237e-02, -3.10503487e-02,\n",
       "       -4.48939018e-02, -5.46182133e-03,  1.38091985e-02, -2.28233505e-02,\n",
       "       -3.46471742e-02,  8.13179184e-03, -2.54242402e-02,  4.16829577e-03,\n",
       "       -1.36153232e-02, -8.23370926e-03,  2.52237283e-02,  7.79318344e-03,\n",
       "        1.67607497e-02, -6.85461983e-03,  4.53259889e-03,  3.25067416e-02,\n",
       "       -4.02355455e-02, -1.17673352e-03,  6.28380850e-03, -2.58057956e-02,\n",
       "       -5.12339510e-02,  3.70597397e-03, -7.09908223e-03,  4.41679824e-03,\n",
       "       -1.96433645e-02, -8.12065555e-04,  1.75801963e-02,  8.67028348e-03,\n",
       "       -2.38334220e-02, -3.99425067e-03,  2.63623688e-02,  5.23703918e-03,\n",
       "       -1.12569947e-02, -3.40189375e-02,  1.26975011e-02,  2.05779411e-02,\n",
       "        3.16046667e-03, -1.09510217e-03, -1.52371638e-02, -9.86174028e-03,\n",
       "       -7.94576108e-03, -9.51051153e-03, -4.41587344e-03,  1.46327140e-02,\n",
       "        1.44750178e-02,  1.72599964e-03,  1.72858275e-02, -1.86008997e-02,\n",
       "       -2.37260386e-02,  1.39928497e-02, -5.81641914e-03,  2.80341879e-02,\n",
       "       -4.72998340e-03,  5.94377797e-03, -2.42031878e-03,  1.21069532e-02,\n",
       "        2.32037194e-02,  1.57682002e-02,  7.84395169e-03,  1.99014135e-03,\n",
       "       -2.85062790e-02, -4.80226167e-02, -2.58331355e-02, -1.02935275e-02,\n",
       "       -1.25036184e-02, -3.58424615e-03, -5.72594209e-03, -7.86804594e-03,\n",
       "       -3.34502570e-03,  5.98022062e-03,  2.46329065e-02,  4.88932896e-03,\n",
       "       -1.55657291e-01,  4.31520073e-03, -5.67201851e-03, -1.25239585e-02,\n",
       "        5.00100385e-03,  6.91829063e-03, -8.03438351e-02, -2.96764560e-02,\n",
       "       -5.75491413e-03,  1.89049542e-02,  4.80738422e-03, -5.91679243e-03,\n",
       "        4.53317631e-03, -3.62769514e-02, -1.76720098e-02, -5.92945144e-05,\n",
       "        7.16397166e-03, -1.86115038e-02,  2.70034578e-02,  9.35818721e-03,\n",
       "        1.12689892e-02, -8.84390250e-03, -8.89384747e-03,  4.30399813e-02,\n",
       "       -1.39939850e-02,  9.19065531e-03,  9.27635580e-02, -1.58379469e-02,\n",
       "       -1.77961178e-02,  3.45033482e-02, -1.71356834e-02,  1.90190179e-03,\n",
       "        1.03177056e-02, -1.59954764e-02, -4.27031331e-02,  6.37794100e-03,\n",
       "       -2.50818580e-02, -8.52520298e-03, -3.20315734e-02, -5.52814640e-03,\n",
       "        3.44846444e-03,  3.25618982e-02, -2.94904709e-02, -4.55780141e-03,\n",
       "       -6.73146220e-03, -5.64638712e-03, -1.96332373e-02,  6.63444865e-03,\n",
       "        4.64354968e-03, -2.46209800e-02,  2.25046072e-02,  1.16550438e-02,\n",
       "       -2.24096840e-03,  4.13991837e-03, -1.47786010e-02,  1.48225799e-02,\n",
       "       -2.04287888e-03, -8.46263301e-03, -1.35368519e-02, -1.05448309e-02,\n",
       "        1.62249207e-02,  2.94094384e-02,  2.07631309e-02, -3.85278426e-02,\n",
       "       -4.39080782e-03, -1.11893155e-02,  4.81136050e-03, -2.24064197e-02,\n",
       "        1.12724118e-03, -2.67710835e-02, -2.24492662e-02, -1.76823027e-02,\n",
       "        3.94030511e-02,  2.28572078e-03,  2.92167030e-02, -5.28362580e-06,\n",
       "       -4.50507775e-02, -1.44878747e-02,  4.96606482e-03,  3.45691014e-03,\n",
       "       -1.22626107e-02, -1.45971514e-02, -1.10904537e-02, -2.36105081e-02,\n",
       "       -1.55267306e-02,  2.64550652e-03, -9.26837325e-04, -1.52977556e-03,\n",
       "        3.01502994e-03, -3.71879712e-03, -5.56706730e-03,  2.12000571e-02,\n",
       "        1.05757033e-02, -3.54573578e-02, -1.67574268e-03, -1.97488554e-02,\n",
       "        1.26218032e-02,  1.64347179e-02,  1.77269895e-02,  1.36845699e-02,\n",
       "       -1.90074518e-02,  2.36359723e-02, -3.16559859e-02, -3.46949920e-02,\n",
       "       -3.97918187e-02,  2.65968572e-02,  4.65569012e-02,  2.67392378e-02,\n",
       "       -1.79769658e-02,  9.55069065e-03,  2.28168489e-03,  5.95519319e-03,\n",
       "       -1.04759894e-02,  1.92581657e-02,  6.62715919e-03,  4.19839891e-03,\n",
       "        3.81355435e-02,  7.44714309e-03, -1.81648973e-02, -2.29485147e-02,\n",
       "        1.41517138e-02, -4.44711819e-02,  3.55317630e-03,  1.65754892e-02,\n",
       "        1.14768092e-03, -4.51179631e-02, -3.26657854e-02, -3.86834778e-02,\n",
       "       -2.65145134e-02, -1.61852352e-02,  4.33811583e-02, -8.94573983e-03,\n",
       "       -1.92759596e-02, -2.37005446e-02,  3.30042653e-03,  3.65819186e-02,\n",
       "       -4.77907388e-03,  1.62467100e-02, -2.59112287e-03,  2.86257416e-02,\n",
       "       -1.12961885e-02, -1.96563546e-02,  2.78409827e-03, -1.57062374e-02,\n",
       "       -2.72528976e-02,  1.86056364e-02,  1.35284029e-02, -1.47269052e-02,\n",
       "       -5.36133628e-03,  7.09670503e-03, -3.05913296e-02,  1.17094414e-02,\n",
       "        3.19236144e-02,  2.28713378e-02,  4.44796868e-03, -1.10353120e-02,\n",
       "        3.26857753e-02, -2.89405771e-02, -1.75498575e-02,  9.67658032e-03,\n",
       "       -1.66690163e-02, -1.30083729e-02, -1.48069253e-03, -3.85677144e-02,\n",
       "       -4.30365242e-02,  3.68604530e-03,  2.67860778e-02, -2.37942440e-03,\n",
       "       -1.89006384e-02, -3.32500041e-02, -1.73175670e-02,  1.40024908e-03,\n",
       "       -8.45245272e-03, -1.55427838e-02,  3.11119109e-03,  6.80855615e-03,\n",
       "        1.68272536e-02, -2.02395134e-02,  3.79526149e-03,  1.21178851e-02,\n",
       "        4.16378826e-02, -4.15863022e-02, -2.22421298e-03, -6.27364032e-03,\n",
       "       -1.90012567e-02, -1.54426964e-02,  5.84518537e-03, -1.98761001e-04,\n",
       "       -6.54261094e-03,  5.82741015e-03, -2.07355991e-02,  2.05918849e-02,\n",
       "        6.93782698e-04,  3.79448012e-03,  2.62319464e-02,  3.55319828e-02,\n",
       "       -5.83211426e-04,  5.08871861e-04, -5.28684556e-02,  1.01094395e-02,\n",
       "       -6.04818482e-03,  5.28217806e-03, -4.04075533e-03, -7.18946918e-04,\n",
       "        2.62743346e-02,  4.38412558e-03, -3.60149331e-03, -1.18750520e-02,\n",
       "        8.68621469e-03,  4.31682207e-02, -1.11437310e-02,  3.34466547e-02,\n",
       "        4.98913135e-03, -2.34968644e-02,  2.08787937e-02,  1.25465617e-02,\n",
       "        2.26594042e-03,  1.01707131e-03,  8.35046172e-03,  5.33474889e-03,\n",
       "       -2.24377308e-02,  9.50122625e-03,  4.44468185e-02,  6.93226559e-03,\n",
       "        4.86375391e-02, -3.24446820e-02, -1.36653204e-02, -4.92508989e-03,\n",
       "       -3.33785117e-02, -1.38370451e-02, -1.29532488e-02,  4.35913075e-03,\n",
       "       -4.17267438e-05, -2.00965628e-02,  1.98321268e-02, -1.99974645e-02,\n",
       "        1.77763402e-03, -8.60924087e-03, -2.78972778e-02, -1.22903604e-02,\n",
       "       -3.51008400e-02,  9.13647003e-04,  1.15855392e-02, -8.29441193e-03,\n",
       "        3.49344267e-03,  1.72409937e-02,  1.59870144e-02, -2.31822599e-02,\n",
       "        1.96572617e-02,  7.30346516e-03,  3.21584847e-03,  2.16763206e-02,\n",
       "       -3.86375189e-02,  4.38636914e-03, -7.26071047e-03, -5.28804539e-03,\n",
       "        1.46489427e-03,  3.45799029e-02,  4.85357409e-03, -1.72584858e-02,\n",
       "       -2.89296918e-02,  7.95781054e-03, -3.52933211e-03, -2.08057221e-02,\n",
       "        1.12840123e-02, -2.12991587e-03,  1.55223068e-03, -2.07357090e-02,\n",
       "        7.85482209e-03, -2.63519585e-04, -1.95360444e-02, -1.36681488e-02,\n",
       "       -2.19369195e-02, -5.17329946e-03,  1.28433900e-02,  1.36499144e-02,\n",
       "        2.69946288e-02, -2.11391915e-02,  2.62541696e-02,  7.51257362e-03,\n",
       "       -2.39830539e-02,  1.78972073e-02, -2.57712007e-02,  2.10677851e-02,\n",
       "        5.11252042e-03, -9.81385447e-03, -6.49255002e-03, -1.53738940e-02,\n",
       "        8.26768111e-04,  8.91339313e-03,  3.96908298e-02,  3.18264291e-02,\n",
       "        2.96147424e-04,  2.14307010e-02,  1.21274907e-02,  3.51668335e-02,\n",
       "        5.45600429e-03, -1.36363702e-02, -5.38472645e-03, -2.37417128e-02,\n",
       "        3.42086777e-02,  3.78976874e-02,  1.46613140e-02,  2.06605867e-02,\n",
       "       -3.02727986e-02,  2.60182982e-03, -9.58797615e-03, -7.83328433e-05,\n",
       "        1.60962120e-02, -2.84792744e-02, -4.04813513e-03, -1.73113495e-02,\n",
       "       -2.39190739e-03, -2.34477911e-02, -1.92414653e-02,  7.94091448e-03,\n",
       "        4.88666259e-03, -6.92450721e-03,  2.45155580e-03,  1.26718730e-02,\n",
       "       -5.19387517e-03,  2.47687399e-02,  3.86537798e-03, -5.35488129e-04,\n",
       "       -8.63737911e-02,  5.75071424e-02, -2.06547529e-02,  2.91604996e-02,\n",
       "       -8.44269153e-03, -3.82229686e-04,  1.03046121e-02,  1.62012428e-02,\n",
       "       -1.55882332e-02, -4.15518768e-02, -1.10600386e-02,  4.30773348e-02,\n",
       "       -1.73190869e-02,  2.21618023e-02,  3.86629812e-02, -4.86277305e-02,\n",
       "        1.46450941e-02, -5.41850924e-03, -1.16723694e-03,  9.30476002e-03,\n",
       "        2.39784159e-02, -1.60073023e-02, -2.92734876e-02, -2.05327570e-02,\n",
       "        1.20236166e-03,  2.79397815e-02,  1.94458123e-02,  8.60044546e-03,\n",
       "        1.62234772e-02, -1.40844434e-02,  1.56640746e-02, -1.52696604e-02,\n",
       "        1.78631656e-02, -1.03929127e-03,  2.32742331e-03,  2.23766360e-02,\n",
       "       -1.60415098e-02, -2.39625387e-02, -1.91145800e-02,  5.98785765e-02,\n",
       "       -5.05214836e-03,  7.94584155e-02, -2.17705034e-03, -1.47636365e-02,\n",
       "       -2.09587030e-02,  5.68157583e-02, -2.50255074e-02,  1.91930532e-02,\n",
       "       -1.75908692e-02, -1.95375662e-02,  1.25679728e-02,  1.75338443e-02,\n",
       "       -4.01501637e-03, -6.00421615e-03, -4.30446072e-03, -1.28746172e-02])"
      ]
     },
     "execution_count": 31,
     "metadata": {},
     "output_type": "execute_result"
    }
   ],
   "source": [
    "data_emb[6721]"
   ]
  },
  {
   "cell_type": "code",
   "execution_count": null,
   "id": "f57e6a20",
   "metadata": {},
   "outputs": [],
   "source": []
  },
  {
   "cell_type": "code",
   "execution_count": null,
   "id": "748a8bbe",
   "metadata": {},
   "outputs": [],
   "source": []
  },
  {
   "cell_type": "code",
   "execution_count": null,
   "id": "8dd0e753",
   "metadata": {},
   "outputs": [],
   "source": []
  },
  {
   "cell_type": "code",
   "execution_count": null,
   "id": "eecad1ed",
   "metadata": {},
   "outputs": [],
   "source": [
    "type(training_data)"
   ]
  },
  {
   "cell_type": "code",
   "execution_count": null,
   "id": "1709ccff",
   "metadata": {},
   "outputs": [],
   "source": [
    "training_data.shape"
   ]
  },
  {
   "cell_type": "code",
   "execution_count": null,
   "id": "bb93bc9a",
   "metadata": {},
   "outputs": [],
   "source": [
    "len(training_data)"
   ]
  },
  {
   "cell_type": "code",
   "execution_count": null,
   "id": "1fb2711c",
   "metadata": {},
   "outputs": [],
   "source": [
    "plt.imshow(training_data[0][0])"
   ]
  },
  {
   "cell_type": "code",
   "execution_count": null,
   "id": "65304eff",
   "metadata": {},
   "outputs": [],
   "source": [
    "plt.imshow(training_data[0][1])"
   ]
  },
  {
   "cell_type": "markdown",
   "id": "7182355e",
   "metadata": {},
   "source": [
    "training_data = np.array(training_data,dtype = np.float32)"
   ]
  },
  {
   "cell_type": "code",
   "execution_count": null,
   "id": "4a241c63",
   "metadata": {},
   "outputs": [],
   "source": [
    "training_data[0]"
   ]
  },
  {
   "cell_type": "code",
   "execution_count": null,
   "id": "0463d413",
   "metadata": {},
   "outputs": [],
   "source": [
    "training_data.shape"
   ]
  },
  {
   "cell_type": "code",
   "execution_count": null,
   "id": "d17400ae",
   "metadata": {},
   "outputs": [],
   "source": [
    "plt.imshow(training_data[0,0])"
   ]
  },
  {
   "cell_type": "code",
   "execution_count": null,
   "id": "a10ba9db",
   "metadata": {},
   "outputs": [],
   "source": []
  },
  {
   "cell_type": "markdown",
   "id": "b212a9c9",
   "metadata": {},
   "source": [
    "# creating h5py file"
   ]
  },
  {
   "cell_type": "code",
   "execution_count": null,
   "id": "63f8581a",
   "metadata": {},
   "outputs": [],
   "source": [
    "import h5py"
   ]
  },
  {
   "cell_type": "code",
   "execution_count": null,
   "id": "c3a56cd6",
   "metadata": {},
   "outputs": [],
   "source": [
    "\n",
    "\n",
    "# changing current working directory to program files\n",
    "\n",
    "file_directory =\"D:\\\\imp docs\\\\sem4\\\\dn\\\\phoenix t\\\\PHOENIX-2014-T-release-v3\\\\PHOENIX-2014-T\\\\program files\"\n",
    "\n"
   ]
  },
  {
   "cell_type": "code",
   "execution_count": null,
   "id": "a477b262",
   "metadata": {},
   "outputs": [],
   "source": [
    "os.chdir(file_directory)"
   ]
  },
  {
   "cell_type": "code",
   "execution_count": null,
   "id": "b935a207",
   "metadata": {},
   "outputs": [],
   "source": [
    "os.getcwd()"
   ]
  },
  {
   "cell_type": "code",
   "execution_count": null,
   "id": "84144eaa",
   "metadata": {},
   "outputs": [],
   "source": [
    "with h5py.File('x_gray_yield.h5','w') as hf:\n",
    "    hf.create_dataset('x_1',data=training_data,maxshape=(None,None,None,None,None),chunks=(1,872,224,224,3))"
   ]
  },
  {
   "cell_type": "code",
   "execution_count": null,
   "id": "870cd591",
   "metadata": {},
   "outputs": [],
   "source": []
  },
  {
   "cell_type": "code",
   "execution_count": null,
   "id": "117ade63",
   "metadata": {},
   "outputs": [],
   "source": []
  },
  {
   "cell_type": "markdown",
   "id": "80cc4857",
   "metadata": {},
   "source": [
    "# reading h5py files"
   ]
  },
  {
   "cell_type": "code",
   "execution_count": null,
   "id": "196b9d85",
   "metadata": {},
   "outputs": [],
   "source": []
  },
  {
   "cell_type": "code",
   "execution_count": null,
   "id": "22d4fd9a",
   "metadata": {},
   "outputs": [],
   "source": [
    "\n",
    "with h5py.File('x_gray_yield.h5','r')as ab:\n",
    "    ind = ab.keys()\n",
    "    print(ind)\n",
    "    data=ab['x_1'][()]"
   ]
  },
  {
   "cell_type": "code",
   "execution_count": null,
   "id": "3dc0ae4c",
   "metadata": {},
   "outputs": [],
   "source": [
    "data.shape"
   ]
  },
  {
   "cell_type": "code",
   "execution_count": null,
   "id": "4ec0ce0e",
   "metadata": {},
   "outputs": [],
   "source": [
    "type(data)"
   ]
  },
  {
   "cell_type": "code",
   "execution_count": null,
   "id": "3a38f60c",
   "metadata": {},
   "outputs": [],
   "source": [
    "type(data[0,0])"
   ]
  },
  {
   "cell_type": "code",
   "execution_count": null,
   "id": "f6953444",
   "metadata": {},
   "outputs": [],
   "source": [
    "plt.imshow(data[0,0])"
   ]
  },
  {
   "cell_type": "code",
   "execution_count": null,
   "id": "12d14974",
   "metadata": {},
   "outputs": [],
   "source": []
  },
  {
   "cell_type": "code",
   "execution_count": null,
   "id": "a41da571",
   "metadata": {},
   "outputs": [],
   "source": []
  },
  {
   "cell_type": "code",
   "execution_count": null,
   "id": "e381e151",
   "metadata": {},
   "outputs": [],
   "source": []
  },
  {
   "cell_type": "markdown",
   "id": "859f7ac8",
   "metadata": {},
   "source": [
    "# creating pretrained model"
   ]
  },
  {
   "cell_type": "code",
   "execution_count": null,
   "id": "a6967af4",
   "metadata": {},
   "outputs": [],
   "source": [
    "import tensorflow_hub as hub"
   ]
  },
  {
   "cell_type": "code",
   "execution_count": null,
   "id": "4c2d45bf",
   "metadata": {},
   "outputs": [],
   "source": [
    "import tensorflow_hub as hub\n",
    "#hub_handle = 'https://tfhub.dev/deepmind/mil-nce/s3d/1'\n",
    "hub_handle = \"https://tfhub.dev/deepmind/mil-nce/i3d/1\"\n",
    "hub_model = hub.load(hub_handle)\n",
    "\n",
    "def generate_embeddings(model, input_frames):\n",
    "  \"\"\"Generate embeddings from the model from video frames and input words.\"\"\"\n",
    "  # Input_frames must be normalized in [0, 1] and of the shape Batch x T x H x W x 3\n",
    "  vision_output = model.signatures['video'](tf.constant(tf.cast(input_frames, dtype=tf.float32)))\n",
    "  #text_output = model.signatures['text'](tf.constant(input_words))\n",
    "  return vision_output['video_embedding']"
   ]
  },
  {
   "cell_type": "code",
   "execution_count": null,
   "id": "04c536e8",
   "metadata": {},
   "outputs": [],
   "source": [
    "training_data.shape"
   ]
  },
  {
   "cell_type": "code",
   "execution_count": null,
   "id": "9b44599b",
   "metadata": {},
   "outputs": [],
   "source": []
  },
  {
   "cell_type": "code",
   "execution_count": null,
   "id": "86108085",
   "metadata": {},
   "outputs": [],
   "source": [
    "temp_data=data[0,0:109]"
   ]
  },
  {
   "cell_type": "code",
   "execution_count": null,
   "id": "941d18e8",
   "metadata": {},
   "outputs": [],
   "source": [
    "temp_data.shape"
   ]
  },
  {
   "cell_type": "markdown",
   "id": "e5da132e",
   "metadata": {},
   "source": [
    "vid_embdd= generate_embeddings(hub_model,[temp_data])"
   ]
  },
  {
   "cell_type": "code",
   "execution_count": null,
   "id": "e06d745a",
   "metadata": {},
   "outputs": [],
   "source": []
  }
 ],
 "metadata": {
  "kernelspec": {
   "display_name": "Python 3",
   "language": "python",
   "name": "python3"
  },
  "language_info": {
   "codemirror_mode": {
    "name": "ipython",
    "version": 3
   },
   "file_extension": ".py",
   "mimetype": "text/x-python",
   "name": "python",
   "nbconvert_exporter": "python",
   "pygments_lexer": "ipython3",
   "version": "3.7.9"
  }
 },
 "nbformat": 4,
 "nbformat_minor": 5
}
